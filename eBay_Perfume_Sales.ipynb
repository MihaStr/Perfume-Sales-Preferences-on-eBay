{
 "cells": [
  {
   "cell_type": "markdown",
   "id": "4c57609e-8ca4-402b-b6dc-f501db49f7cd",
   "metadata": {},
   "source": [
    "<span style=\"color:\t#008080 ; font-size:20px\">Mihaela Strimbeschi</span>\n",
    "\n",
    "<div style=\"text-align:center; color:#008080; font-size:20px\">\n",
    "  <h3>eBAY PERFUME PICKS</h3>\n",
    "</div>\n",
    "\n",
    "---\n",
    "<div style=\"text-align:left; color:\t#008080 ; font-size:15px\">\n",
    "<h3>Introduction</h3>\n",
    "</div>\n",
    "\n",
    " Understanding perfume sales trends is key for brands and sellers in a competitive market. This analysis explores key factors such as brand popularity, pricing, product types, and seller locations to identify consumer preferences and sales drivers.\n",
    "\n",
    "<div style=\"text-align:left; color:\t#008080 ; font-size:15px\">\n",
    "<h3>Objective</h3>\n",
    "</div>\n",
    "\n",
    "This analysis aims to provide insights into perfume sales trends, helping businesses and sellers make data-driven decisions to optimize their strategies and improve market positioning.\n",
    " The analysis aims to answer the following questions:\n",
    "\n",
    "<div style=\"text-align:left; color:\t#008080 ; font-size:15px\">\n",
    "<h3>Questions</h3>\n",
    "</div>\n",
    "\n",
    "---\n",
    "1. Which are the top 10 best-selling perfume brands?\n",
    "2. What kind of perfumes do people prefer?\n",
    "3. Are men's perfumes more expensive than women's?\n",
    "4. How are perfume sales distributed across different countries?\n",
    "5. Where are most sellers located?\n",
    "6. Do perfumes with higher stock sell more?\n",
    "7. Do budget perfumes sell more than luxury perfumes?\n",
    "\n",
    "---\n",
    "\n",
    "\n",
    "\n",
    "<div style=\"text-align:left; color:\t#008080 ; font-size:15px\">\n",
    "<h3>About the Dataset</h3>\n",
    "</div>\n",
    "\n",
    "\n",
    "\n",
    "**Dataset Overview**\n",
    "\n",
    "The Perfume E-Commerce Dataset 2024 comprises detailed information on 2000 perfume listings sourced from eBay, split into two separate CSV files for men's and women's perfumes, each containing 1000 entries. This dataset provides a comprehensive view of the current market trends, pricing, availability, and geographical distribution of perfumes in the e-commerce space. \n",
    "\n",
    "---\n",
    "[Link data Kaggle](https://www.kaggle.com/datasets/kanchana1990/perfume-e-commerce-dataset-2024/data) \n",
    "\n",
    "---\n",
    "\n",
    "**Column Descriptors**\n",
    "\n",
    "1. ***brand***: The brand of the perfume.\n",
    "2. ***title***: The title of the listing.\n",
    "3. ***type***: The type of perfume (e.g., Eau de Parfum, Eau de Toilette).\n",
    "4. ***price***: The price of the perfume.\n",
    "5. ***priceWithCurrency***: The price with currency notation.\n",
    "6. ***available***: The number of items available.\n",
    "7. ***availableText***: Text description of availability.\n",
    "8. ***sold***: The number of items sold.\n",
    "9. ***lastUpdated***: The last updated timestamp of the listing.\n",
    "10. ***itemLocation***: The location of the item.\n",
    "---"
   ]
  },
  {
   "cell_type": "markdown",
   "id": "2aba3aa6-0e45-4510-9647-92a10537c911",
   "metadata": {},
   "source": [
    "### Step 1: Importing Necessary Libraries\n"
   ]
  },
  {
   "cell_type": "markdown",
   "id": "30b54d98-6548-4d9f-80cb-563a42d559d0",
   "metadata": {},
   "source": [
    "I will import libraries for data analysis and interactive visualizations.\n"
   ]
  },
  {
   "cell_type": "code",
   "execution_count": 4,
   "id": "c05e38a3-3291-46a8-b287-9ad781d2f4e1",
   "metadata": {},
   "outputs": [
    {
     "data": {
      "text/html": [
       "    <style>\n",
       "        .bk-notebook-logo {\n",
       "            display: block;\n",
       "            width: 20px;\n",
       "            height: 20px;\n",
       "            background-image: url(data:image/png;base64,iVBORw0KGgoAAAANSUhEUgAAABQAAAAUCAYAAACNiR0NAAAABHNCSVQICAgIfAhkiAAAAAlwSFlzAAALEgAACxIB0t1+/AAAABx0RVh0U29mdHdhcmUAQWRvYmUgRmlyZXdvcmtzIENTNui8sowAAAOkSURBVDiNjZRtaJVlGMd/1/08zzln5zjP1LWcU9N0NkN8m2CYjpgQYQXqSs0I84OLIC0hkEKoPtiH3gmKoiJDU7QpLgoLjLIQCpEsNJ1vqUOdO7ppbuec5+V+rj4ctwzd8IIbbi6u+8f1539dt3A78eXC7QizUF7gyV1fD1Yqg4JWz84yffhm0qkFqBogB9rM8tZdtwVsPUhWhGcFJngGeWrPzHm5oaMmkfEg1usvLFyc8jLRqDOMru7AyC8saQr7GG7f5fvDeH7Ej8CM66nIF+8yngt6HWaKh7k49Soy9nXurCi1o3qUbS3zWfrYeQDTB/Qj6kX6Ybhw4B+bOYoLKCC9H3Nu/leUTZ1JdRWkkn2ldcCamzrcf47KKXdAJllSlxAOkRgyHsGC/zRday5Qld9DyoM4/q/rUoy/CXh3jzOu3bHUVZeU+DEn8FInkPBFlu3+nW3Nw0mk6vCDiWg8CeJaxEwuHS3+z5RgY+YBR6V1Z1nxSOfoaPa4LASWxxdNp+VWTk7+4vzaou8v8PN+xo+KY2xsw6une2frhw05CTYOmQvsEhjhWjn0bmXPjpE1+kplmmkP3suftwTubK9Vq22qKmrBhpY4jvd5afdRA3wGjFAgcnTK2s4hY0/GPNIb0nErGMCRxWOOX64Z8RAC4oCXdklmEvcL8o0BfkNK4lUg9HTl+oPlQxdNo3Mg4Nv175e/1LDGzZen30MEjRUtmXSfiTVu1kK8W4txyV6BMKlbgk3lMwYCiusNy9fVfvvwMxv8Ynl6vxoByANLTWplvuj/nF9m2+PDtt1eiHPBr1oIfhCChQMBw6Aw0UulqTKZdfVvfG7VcfIqLG9bcldL/+pdWTLxLUy8Qq38heUIjh4XlzZxzQm19lLFlr8vdQ97rjZVOLf8nclzckbcD4wxXMidpX30sFd37Fv/GtwwhzhxGVAprjbg0gCAEeIgwCZyTV2Z1REEW8O4py0wsjeloKoMr6iCY6dP92H6Vw/oTyICIthibxjm/DfN9lVz8IqtqKYLUXfoKVMVQVVJOElGjrnnUt9T9wbgp8AyYKaGlqingHZU/uG2NTZSVqwHQTWkx9hxjkpWDaCg6Ckj5qebgBVbT3V3NNXMSiWSDdGV3hrtzla7J+duwPOToIg42ChPQOQjspnSlp1V+Gjdged7+8UN5CRAV7a5EdFNwCjEaBR27b3W890TE7g24NAP/mMDXRWrGoFPQI9ls/MWO2dWFAar/xcOIImbbpA3zgAAAABJRU5ErkJggg==);\n",
       "        }\n",
       "    </style>\n",
       "    <div>\n",
       "        <a href=\"https://bokeh.org\" target=\"_blank\" class=\"bk-notebook-logo\"></a>\n",
       "        <span id=\"f68b8588-1eb4-43ed-9d13-0cfcc939b03b\">Loading BokehJS ...</span>\n",
       "    </div>\n"
      ]
     },
     "metadata": {},
     "output_type": "display_data"
    },
    {
     "data": {
      "application/javascript": [
       "(function(root) {\n",
       "  function now() {\n",
       "    return new Date();\n",
       "  }\n",
       "\n",
       "  const force = true;\n",
       "\n",
       "  if (typeof root._bokeh_onload_callbacks === \"undefined\" || force === true) {\n",
       "    root._bokeh_onload_callbacks = [];\n",
       "    root._bokeh_is_loading = undefined;\n",
       "  }\n",
       "\n",
       "const JS_MIME_TYPE = 'application/javascript';\n",
       "  const HTML_MIME_TYPE = 'text/html';\n",
       "  const EXEC_MIME_TYPE = 'application/vnd.bokehjs_exec.v0+json';\n",
       "  const CLASS_NAME = 'output_bokeh rendered_html';\n",
       "\n",
       "  /**\n",
       "   * Render data to the DOM node\n",
       "   */\n",
       "  function render(props, node) {\n",
       "    const script = document.createElement(\"script\");\n",
       "    node.appendChild(script);\n",
       "  }\n",
       "\n",
       "  /**\n",
       "   * Handle when an output is cleared or removed\n",
       "   */\n",
       "  function handleClearOutput(event, handle) {\n",
       "    function drop(id) {\n",
       "      const view = Bokeh.index.get_by_id(id)\n",
       "      if (view != null) {\n",
       "        view.model.document.clear()\n",
       "        Bokeh.index.delete(view)\n",
       "      }\n",
       "    }\n",
       "\n",
       "    const cell = handle.cell;\n",
       "\n",
       "    const id = cell.output_area._bokeh_element_id;\n",
       "    const server_id = cell.output_area._bokeh_server_id;\n",
       "\n",
       "    // Clean up Bokeh references\n",
       "    if (id != null) {\n",
       "      drop(id)\n",
       "    }\n",
       "\n",
       "    if (server_id !== undefined) {\n",
       "      // Clean up Bokeh references\n",
       "      const cmd_clean = \"from bokeh.io.state import curstate; print(curstate().uuid_to_server['\" + server_id + \"'].get_sessions()[0].document.roots[0]._id)\";\n",
       "      cell.notebook.kernel.execute(cmd_clean, {\n",
       "        iopub: {\n",
       "          output: function(msg) {\n",
       "            const id = msg.content.text.trim()\n",
       "            drop(id)\n",
       "          }\n",
       "        }\n",
       "      });\n",
       "      // Destroy server and session\n",
       "      const cmd_destroy = \"import bokeh.io.notebook as ion; ion.destroy_server('\" + server_id + \"')\";\n",
       "      cell.notebook.kernel.execute(cmd_destroy);\n",
       "    }\n",
       "  }\n",
       "\n",
       "  /**\n",
       "   * Handle when a new output is added\n",
       "   */\n",
       "  function handleAddOutput(event, handle) {\n",
       "    const output_area = handle.output_area;\n",
       "    const output = handle.output;\n",
       "\n",
       "    // limit handleAddOutput to display_data with EXEC_MIME_TYPE content only\n",
       "    if ((output.output_type != \"display_data\") || (!Object.prototype.hasOwnProperty.call(output.data, EXEC_MIME_TYPE))) {\n",
       "      return\n",
       "    }\n",
       "\n",
       "    const toinsert = output_area.element.find(\".\" + CLASS_NAME.split(' ')[0]);\n",
       "\n",
       "    if (output.metadata[EXEC_MIME_TYPE][\"id\"] !== undefined) {\n",
       "      toinsert[toinsert.length - 1].firstChild.textContent = output.data[JS_MIME_TYPE];\n",
       "      // store reference to embed id on output_area\n",
       "      output_area._bokeh_element_id = output.metadata[EXEC_MIME_TYPE][\"id\"];\n",
       "    }\n",
       "    if (output.metadata[EXEC_MIME_TYPE][\"server_id\"] !== undefined) {\n",
       "      const bk_div = document.createElement(\"div\");\n",
       "      bk_div.innerHTML = output.data[HTML_MIME_TYPE];\n",
       "      const script_attrs = bk_div.children[0].attributes;\n",
       "      for (let i = 0; i < script_attrs.length; i++) {\n",
       "        toinsert[toinsert.length - 1].firstChild.setAttribute(script_attrs[i].name, script_attrs[i].value);\n",
       "        toinsert[toinsert.length - 1].firstChild.textContent = bk_div.children[0].textContent\n",
       "      }\n",
       "      // store reference to server id on output_area\n",
       "      output_area._bokeh_server_id = output.metadata[EXEC_MIME_TYPE][\"server_id\"];\n",
       "    }\n",
       "  }\n",
       "\n",
       "  function register_renderer(events, OutputArea) {\n",
       "\n",
       "    function append_mime(data, metadata, element) {\n",
       "      // create a DOM node to render to\n",
       "      const toinsert = this.create_output_subarea(\n",
       "        metadata,\n",
       "        CLASS_NAME,\n",
       "        EXEC_MIME_TYPE\n",
       "      );\n",
       "      this.keyboard_manager.register_events(toinsert);\n",
       "      // Render to node\n",
       "      const props = {data: data, metadata: metadata[EXEC_MIME_TYPE]};\n",
       "      render(props, toinsert[toinsert.length - 1]);\n",
       "      element.append(toinsert);\n",
       "      return toinsert\n",
       "    }\n",
       "\n",
       "    /* Handle when an output is cleared or removed */\n",
       "    events.on('clear_output.CodeCell', handleClearOutput);\n",
       "    events.on('delete.Cell', handleClearOutput);\n",
       "\n",
       "    /* Handle when a new output is added */\n",
       "    events.on('output_added.OutputArea', handleAddOutput);\n",
       "\n",
       "    /**\n",
       "     * Register the mime type and append_mime function with output_area\n",
       "     */\n",
       "    OutputArea.prototype.register_mime_type(EXEC_MIME_TYPE, append_mime, {\n",
       "      /* Is output safe? */\n",
       "      safe: true,\n",
       "      /* Index of renderer in `output_area.display_order` */\n",
       "      index: 0\n",
       "    });\n",
       "  }\n",
       "\n",
       "  // register the mime type if in Jupyter Notebook environment and previously unregistered\n",
       "  if (root.Jupyter !== undefined) {\n",
       "    const events = require('base/js/events');\n",
       "    const OutputArea = require('notebook/js/outputarea').OutputArea;\n",
       "\n",
       "    if (OutputArea.prototype.mime_types().indexOf(EXEC_MIME_TYPE) == -1) {\n",
       "      register_renderer(events, OutputArea);\n",
       "    }\n",
       "  }\n",
       "  if (typeof (root._bokeh_timeout) === \"undefined\" || force === true) {\n",
       "    root._bokeh_timeout = Date.now() + 5000;\n",
       "    root._bokeh_failed_load = false;\n",
       "  }\n",
       "\n",
       "  const NB_LOAD_WARNING = {'data': {'text/html':\n",
       "     \"<div style='background-color: #fdd'>\\n\"+\n",
       "     \"<p>\\n\"+\n",
       "     \"BokehJS does not appear to have successfully loaded. If loading BokehJS from CDN, this \\n\"+\n",
       "     \"may be due to a slow or bad network connection. Possible fixes:\\n\"+\n",
       "     \"</p>\\n\"+\n",
       "     \"<ul>\\n\"+\n",
       "     \"<li>re-rerun `output_notebook()` to attempt to load from CDN again, or</li>\\n\"+\n",
       "     \"<li>use INLINE resources instead, as so:</li>\\n\"+\n",
       "     \"</ul>\\n\"+\n",
       "     \"<code>\\n\"+\n",
       "     \"from bokeh.resources import INLINE\\n\"+\n",
       "     \"output_notebook(resources=INLINE)\\n\"+\n",
       "     \"</code>\\n\"+\n",
       "     \"</div>\"}};\n",
       "\n",
       "  function display_loaded() {\n",
       "    const el = document.getElementById(\"f68b8588-1eb4-43ed-9d13-0cfcc939b03b\");\n",
       "    if (el != null) {\n",
       "      el.textContent = \"BokehJS is loading...\";\n",
       "    }\n",
       "    if (root.Bokeh !== undefined) {\n",
       "      if (el != null) {\n",
       "        el.textContent = \"BokehJS \" + root.Bokeh.version + \" successfully loaded.\";\n",
       "      }\n",
       "    } else if (Date.now() < root._bokeh_timeout) {\n",
       "      setTimeout(display_loaded, 100)\n",
       "    }\n",
       "  }\n",
       "\n",
       "  function run_callbacks() {\n",
       "    try {\n",
       "      root._bokeh_onload_callbacks.forEach(function(callback) {\n",
       "        if (callback != null)\n",
       "          callback();\n",
       "      });\n",
       "    } finally {\n",
       "      delete root._bokeh_onload_callbacks\n",
       "    }\n",
       "    console.debug(\"Bokeh: all callbacks have finished\");\n",
       "  }\n",
       "\n",
       "  function load_libs(css_urls, js_urls, callback) {\n",
       "    if (css_urls == null) css_urls = [];\n",
       "    if (js_urls == null) js_urls = [];\n",
       "\n",
       "    root._bokeh_onload_callbacks.push(callback);\n",
       "    if (root._bokeh_is_loading > 0) {\n",
       "      console.debug(\"Bokeh: BokehJS is being loaded, scheduling callback at\", now());\n",
       "      return null;\n",
       "    }\n",
       "    if (js_urls == null || js_urls.length === 0) {\n",
       "      run_callbacks();\n",
       "      return null;\n",
       "    }\n",
       "    console.debug(\"Bokeh: BokehJS not loaded, scheduling load and callback at\", now());\n",
       "    root._bokeh_is_loading = css_urls.length + js_urls.length;\n",
       "\n",
       "    function on_load() {\n",
       "      root._bokeh_is_loading--;\n",
       "      if (root._bokeh_is_loading === 0) {\n",
       "        console.debug(\"Bokeh: all BokehJS libraries/stylesheets loaded\");\n",
       "        run_callbacks()\n",
       "      }\n",
       "    }\n",
       "\n",
       "    function on_error(url) {\n",
       "      console.error(\"failed to load \" + url);\n",
       "    }\n",
       "\n",
       "    for (let i = 0; i < css_urls.length; i++) {\n",
       "      const url = css_urls[i];\n",
       "      const element = document.createElement(\"link\");\n",
       "      element.onload = on_load;\n",
       "      element.onerror = on_error.bind(null, url);\n",
       "      element.rel = \"stylesheet\";\n",
       "      element.type = \"text/css\";\n",
       "      element.href = url;\n",
       "      console.debug(\"Bokeh: injecting link tag for BokehJS stylesheet: \", url);\n",
       "      document.body.appendChild(element);\n",
       "    }\n",
       "\n",
       "    for (let i = 0; i < js_urls.length; i++) {\n",
       "      const url = js_urls[i];\n",
       "      const element = document.createElement('script');\n",
       "      element.onload = on_load;\n",
       "      element.onerror = on_error.bind(null, url);\n",
       "      element.async = false;\n",
       "      element.src = url;\n",
       "      console.debug(\"Bokeh: injecting script tag for BokehJS library: \", url);\n",
       "      document.head.appendChild(element);\n",
       "    }\n",
       "  };\n",
       "\n",
       "  function inject_raw_css(css) {\n",
       "    const element = document.createElement(\"style\");\n",
       "    element.appendChild(document.createTextNode(css));\n",
       "    document.body.appendChild(element);\n",
       "  }\n",
       "\n",
       "  const js_urls = [\"https://cdn.bokeh.org/bokeh/release/bokeh-3.3.4.min.js\", \"https://cdn.bokeh.org/bokeh/release/bokeh-gl-3.3.4.min.js\", \"https://cdn.bokeh.org/bokeh/release/bokeh-widgets-3.3.4.min.js\", \"https://cdn.bokeh.org/bokeh/release/bokeh-tables-3.3.4.min.js\", \"https://cdn.bokeh.org/bokeh/release/bokeh-mathjax-3.3.4.min.js\"];\n",
       "  const css_urls = [];\n",
       "\n",
       "  const inline_js = [    function(Bokeh) {\n",
       "      Bokeh.set_log_level(\"info\");\n",
       "    },\n",
       "function(Bokeh) {\n",
       "    }\n",
       "  ];\n",
       "\n",
       "  function run_inline_js() {\n",
       "    if (root.Bokeh !== undefined || force === true) {\n",
       "          for (let i = 0; i < inline_js.length; i++) {\n",
       "      inline_js[i].call(root, root.Bokeh);\n",
       "    }\n",
       "if (force === true) {\n",
       "        display_loaded();\n",
       "      }} else if (Date.now() < root._bokeh_timeout) {\n",
       "      setTimeout(run_inline_js, 100);\n",
       "    } else if (!root._bokeh_failed_load) {\n",
       "      console.log(\"Bokeh: BokehJS failed to load within specified timeout.\");\n",
       "      root._bokeh_failed_load = true;\n",
       "    } else if (force !== true) {\n",
       "      const cell = $(document.getElementById(\"f68b8588-1eb4-43ed-9d13-0cfcc939b03b\")).parents('.cell').data().cell;\n",
       "      cell.output_area.append_execute_result(NB_LOAD_WARNING)\n",
       "    }\n",
       "  }\n",
       "\n",
       "  if (root._bokeh_is_loading === 0) {\n",
       "    console.debug(\"Bokeh: BokehJS loaded, going straight to plotting\");\n",
       "    run_inline_js();\n",
       "  } else {\n",
       "    load_libs(css_urls, js_urls, function() {\n",
       "      console.debug(\"Bokeh: BokehJS plotting callback run at\", now());\n",
       "      run_inline_js();\n",
       "    });\n",
       "  }\n",
       "}(window));"
      ],
      "application/vnd.bokehjs_load.v0+json": "(function(root) {\n  function now() {\n    return new Date();\n  }\n\n  const force = true;\n\n  if (typeof root._bokeh_onload_callbacks === \"undefined\" || force === true) {\n    root._bokeh_onload_callbacks = [];\n    root._bokeh_is_loading = undefined;\n  }\n\n\n  if (typeof (root._bokeh_timeout) === \"undefined\" || force === true) {\n    root._bokeh_timeout = Date.now() + 5000;\n    root._bokeh_failed_load = false;\n  }\n\n  const NB_LOAD_WARNING = {'data': {'text/html':\n     \"<div style='background-color: #fdd'>\\n\"+\n     \"<p>\\n\"+\n     \"BokehJS does not appear to have successfully loaded. If loading BokehJS from CDN, this \\n\"+\n     \"may be due to a slow or bad network connection. Possible fixes:\\n\"+\n     \"</p>\\n\"+\n     \"<ul>\\n\"+\n     \"<li>re-rerun `output_notebook()` to attempt to load from CDN again, or</li>\\n\"+\n     \"<li>use INLINE resources instead, as so:</li>\\n\"+\n     \"</ul>\\n\"+\n     \"<code>\\n\"+\n     \"from bokeh.resources import INLINE\\n\"+\n     \"output_notebook(resources=INLINE)\\n\"+\n     \"</code>\\n\"+\n     \"</div>\"}};\n\n  function display_loaded() {\n    const el = document.getElementById(\"f68b8588-1eb4-43ed-9d13-0cfcc939b03b\");\n    if (el != null) {\n      el.textContent = \"BokehJS is loading...\";\n    }\n    if (root.Bokeh !== undefined) {\n      if (el != null) {\n        el.textContent = \"BokehJS \" + root.Bokeh.version + \" successfully loaded.\";\n      }\n    } else if (Date.now() < root._bokeh_timeout) {\n      setTimeout(display_loaded, 100)\n    }\n  }\n\n  function run_callbacks() {\n    try {\n      root._bokeh_onload_callbacks.forEach(function(callback) {\n        if (callback != null)\n          callback();\n      });\n    } finally {\n      delete root._bokeh_onload_callbacks\n    }\n    console.debug(\"Bokeh: all callbacks have finished\");\n  }\n\n  function load_libs(css_urls, js_urls, callback) {\n    if (css_urls == null) css_urls = [];\n    if (js_urls == null) js_urls = [];\n\n    root._bokeh_onload_callbacks.push(callback);\n    if (root._bokeh_is_loading > 0) {\n      console.debug(\"Bokeh: BokehJS is being loaded, scheduling callback at\", now());\n      return null;\n    }\n    if (js_urls == null || js_urls.length === 0) {\n      run_callbacks();\n      return null;\n    }\n    console.debug(\"Bokeh: BokehJS not loaded, scheduling load and callback at\", now());\n    root._bokeh_is_loading = css_urls.length + js_urls.length;\n\n    function on_load() {\n      root._bokeh_is_loading--;\n      if (root._bokeh_is_loading === 0) {\n        console.debug(\"Bokeh: all BokehJS libraries/stylesheets loaded\");\n        run_callbacks()\n      }\n    }\n\n    function on_error(url) {\n      console.error(\"failed to load \" + url);\n    }\n\n    for (let i = 0; i < css_urls.length; i++) {\n      const url = css_urls[i];\n      const element = document.createElement(\"link\");\n      element.onload = on_load;\n      element.onerror = on_error.bind(null, url);\n      element.rel = \"stylesheet\";\n      element.type = \"text/css\";\n      element.href = url;\n      console.debug(\"Bokeh: injecting link tag for BokehJS stylesheet: \", url);\n      document.body.appendChild(element);\n    }\n\n    for (let i = 0; i < js_urls.length; i++) {\n      const url = js_urls[i];\n      const element = document.createElement('script');\n      element.onload = on_load;\n      element.onerror = on_error.bind(null, url);\n      element.async = false;\n      element.src = url;\n      console.debug(\"Bokeh: injecting script tag for BokehJS library: \", url);\n      document.head.appendChild(element);\n    }\n  };\n\n  function inject_raw_css(css) {\n    const element = document.createElement(\"style\");\n    element.appendChild(document.createTextNode(css));\n    document.body.appendChild(element);\n  }\n\n  const js_urls = [\"https://cdn.bokeh.org/bokeh/release/bokeh-3.3.4.min.js\", \"https://cdn.bokeh.org/bokeh/release/bokeh-gl-3.3.4.min.js\", \"https://cdn.bokeh.org/bokeh/release/bokeh-widgets-3.3.4.min.js\", \"https://cdn.bokeh.org/bokeh/release/bokeh-tables-3.3.4.min.js\", \"https://cdn.bokeh.org/bokeh/release/bokeh-mathjax-3.3.4.min.js\"];\n  const css_urls = [];\n\n  const inline_js = [    function(Bokeh) {\n      Bokeh.set_log_level(\"info\");\n    },\nfunction(Bokeh) {\n    }\n  ];\n\n  function run_inline_js() {\n    if (root.Bokeh !== undefined || force === true) {\n          for (let i = 0; i < inline_js.length; i++) {\n      inline_js[i].call(root, root.Bokeh);\n    }\nif (force === true) {\n        display_loaded();\n      }} else if (Date.now() < root._bokeh_timeout) {\n      setTimeout(run_inline_js, 100);\n    } else if (!root._bokeh_failed_load) {\n      console.log(\"Bokeh: BokehJS failed to load within specified timeout.\");\n      root._bokeh_failed_load = true;\n    } else if (force !== true) {\n      const cell = $(document.getElementById(\"f68b8588-1eb4-43ed-9d13-0cfcc939b03b\")).parents('.cell').data().cell;\n      cell.output_area.append_execute_result(NB_LOAD_WARNING)\n    }\n  }\n\n  if (root._bokeh_is_loading === 0) {\n    console.debug(\"Bokeh: BokehJS loaded, going straight to plotting\");\n    run_inline_js();\n  } else {\n    load_libs(css_urls, js_urls, function() {\n      console.debug(\"Bokeh: BokehJS plotting callback run at\", now());\n      run_inline_js();\n    });\n  }\n}(window));"
     },
     "metadata": {},
     "output_type": "display_data"
    }
   ],
   "source": [
    "import pandas as pd\n",
    "import matplotlib.pyplot as plt\n",
    "import seaborn as sns\n",
    "from bokeh.io import output_notebook, show\n",
    "from bokeh.plotting import figure\n",
    "from bokeh.models import ColumnDataSource, HoverTool, NumeralTickFormatter\n",
    "from bokeh.transform import factor_cmap\n",
    "from bokeh.palettes import Category10\n",
    "import numpy as np\n",
    "\n",
    "output_notebook()"
   ]
  },
  {
   "cell_type": "markdown",
   "id": "0795d569-7afb-40e0-86eb-85a523a1829b",
   "metadata": {},
   "source": [
    "### Step 2: Loading and Inspecting the Data\n"
   ]
  },
  {
   "cell_type": "markdown",
   "id": "f8be0275-377e-4817-b21b-4c1cd5869361",
   "metadata": {},
   "source": [
    "To access and view our data I use the **pd.read_csv** function as the data is stored in a CSV."
   ]
  },
  {
   "cell_type": "code",
   "execution_count": 7,
   "id": "211b6041-87ed-4177-b417-09ce08866628",
   "metadata": {},
   "outputs": [],
   "source": [
    "# Loading the data\n",
    "mens_perfume = pd.read_csv('ebay_mens_perfume.csv')\n",
    "womens_perfume = pd.read_csv('ebay_womens_perfume.csv')"
   ]
  },
  {
   "cell_type": "markdown",
   "id": "4d83ceb3-707d-4277-a4bd-f3277aa98968",
   "metadata": {},
   "source": [
    "Firstly, I will check the men's perfume dataset, followed by the women's perfume dataset, to get an overview of both datasets."
   ]
  },
  {
   "cell_type": "markdown",
   "id": "be3bd2cd-de1a-4514-be9e-c3cdad5c8e4f",
   "metadata": {},
   "source": [
    "**Men's Perfume Dataset - Initial Overview**"
   ]
  },
  {
   "cell_type": "markdown",
   "id": "abe2e6ca-fe01-454c-8261-6e41cccdd3b9",
   "metadata": {},
   "source": [
    "After importing and loading both datasets it’s essential to perform some basic checks:\n",
    "\n",
    " 1. First, I will inspect the first five rows of **mens_perfume** dataset with **.head()** method to understand the structure.\n",
    "\n",
    "    *5 is the default amount of rows. The number of rows can be changed by passing the specified number within the print function.*"
   ]
  },
  {
   "cell_type": "code",
   "execution_count": 11,
   "id": "81937ca5-223e-467a-9c6c-7257193498ac",
   "metadata": {},
   "outputs": [
    {
     "data": {
      "text/html": [
       "<div>\n",
       "<style scoped>\n",
       "    .dataframe tbody tr th:only-of-type {\n",
       "        vertical-align: middle;\n",
       "    }\n",
       "\n",
       "    .dataframe tbody tr th {\n",
       "        vertical-align: top;\n",
       "    }\n",
       "\n",
       "    .dataframe thead th {\n",
       "        text-align: right;\n",
       "    }\n",
       "</style>\n",
       "<table border=\"1\" class=\"dataframe\">\n",
       "  <thead>\n",
       "    <tr style=\"text-align: right;\">\n",
       "      <th></th>\n",
       "      <th>brand</th>\n",
       "      <th>title</th>\n",
       "      <th>type</th>\n",
       "      <th>price</th>\n",
       "      <th>priceWithCurrency</th>\n",
       "      <th>available</th>\n",
       "      <th>availableText</th>\n",
       "      <th>sold</th>\n",
       "      <th>lastUpdated</th>\n",
       "      <th>itemLocation</th>\n",
       "    </tr>\n",
       "  </thead>\n",
       "  <tbody>\n",
       "    <tr>\n",
       "      <th>0</th>\n",
       "      <td>Dior</td>\n",
       "      <td>Christian Dior Sauvage Men's EDP 3.4 oz Fragra...</td>\n",
       "      <td>Eau de Parfum</td>\n",
       "      <td>84.99</td>\n",
       "      <td>US $84.99/ea</td>\n",
       "      <td>10.0</td>\n",
       "      <td>More than 10 available / 116 sold</td>\n",
       "      <td>116.0</td>\n",
       "      <td>May 24, 2024 10:03:04 PDT</td>\n",
       "      <td>Allen Park, Michigan, United States</td>\n",
       "    </tr>\n",
       "    <tr>\n",
       "      <th>1</th>\n",
       "      <td>AS SHOW</td>\n",
       "      <td>A-v-entus Eau de Parfum 3.3 oz 100ML Millesime...</td>\n",
       "      <td>Eau de Parfum</td>\n",
       "      <td>109.99</td>\n",
       "      <td>US $109.99</td>\n",
       "      <td>8.0</td>\n",
       "      <td>8 available / 48 sold</td>\n",
       "      <td>48.0</td>\n",
       "      <td>May 23, 2024 23:07:49 PDT</td>\n",
       "      <td>Atlanta, Georgia, Canada</td>\n",
       "    </tr>\n",
       "    <tr>\n",
       "      <th>2</th>\n",
       "      <td>Unbranded</td>\n",
       "      <td>HOGO BOSS cologne For Men 3.4 oz</td>\n",
       "      <td>Eau de Toilette</td>\n",
       "      <td>100.00</td>\n",
       "      <td>US $100.00</td>\n",
       "      <td>10.0</td>\n",
       "      <td>More than 10 available / 27 sold</td>\n",
       "      <td>27.0</td>\n",
       "      <td>May 22, 2024 21:55:43 PDT</td>\n",
       "      <td>Dearborn, Michigan, United States</td>\n",
       "    </tr>\n",
       "    <tr>\n",
       "      <th>3</th>\n",
       "      <td>Giorgio Armani</td>\n",
       "      <td>Acqua Di Gio by Giorgio Armani 6.7 Fl oz Eau D...</td>\n",
       "      <td>Eau de Toilette</td>\n",
       "      <td>44.99</td>\n",
       "      <td>US $44.99/ea</td>\n",
       "      <td>2.0</td>\n",
       "      <td>2 available / 159 sold</td>\n",
       "      <td>159.0</td>\n",
       "      <td>May 24, 2024 03:30:43 PDT</td>\n",
       "      <td>Reinholds, Pennsylvania, United States</td>\n",
       "    </tr>\n",
       "    <tr>\n",
       "      <th>4</th>\n",
       "      <td>Lattafa</td>\n",
       "      <td>Lattafa Men's Hayaati Al Maleky EDP Spray 3.4 ...</td>\n",
       "      <td>Fragrances</td>\n",
       "      <td>16.91</td>\n",
       "      <td>US $16.91</td>\n",
       "      <td>NaN</td>\n",
       "      <td>Limited quantity available / 156 sold</td>\n",
       "      <td>156.0</td>\n",
       "      <td>May 24, 2024 07:56:25 PDT</td>\n",
       "      <td>Brooklyn, New York, United States</td>\n",
       "    </tr>\n",
       "  </tbody>\n",
       "</table>\n",
       "</div>"
      ],
      "text/plain": [
       "            brand                                              title  \\\n",
       "0            Dior  Christian Dior Sauvage Men's EDP 3.4 oz Fragra...   \n",
       "1         AS SHOW  A-v-entus Eau de Parfum 3.3 oz 100ML Millesime...   \n",
       "2       Unbranded                   HOGO BOSS cologne For Men 3.4 oz   \n",
       "3  Giorgio Armani  Acqua Di Gio by Giorgio Armani 6.7 Fl oz Eau D...   \n",
       "4         Lattafa  Lattafa Men's Hayaati Al Maleky EDP Spray 3.4 ...   \n",
       "\n",
       "              type   price priceWithCurrency  available  \\\n",
       "0    Eau de Parfum   84.99      US $84.99/ea       10.0   \n",
       "1    Eau de Parfum  109.99        US $109.99        8.0   \n",
       "2  Eau de Toilette  100.00        US $100.00       10.0   \n",
       "3  Eau de Toilette   44.99      US $44.99/ea        2.0   \n",
       "4       Fragrances   16.91         US $16.91        NaN   \n",
       "\n",
       "                           availableText   sold                lastUpdated  \\\n",
       "0      More than 10 available / 116 sold  116.0  May 24, 2024 10:03:04 PDT   \n",
       "1                  8 available / 48 sold   48.0  May 23, 2024 23:07:49 PDT   \n",
       "2       More than 10 available / 27 sold   27.0  May 22, 2024 21:55:43 PDT   \n",
       "3                 2 available / 159 sold  159.0  May 24, 2024 03:30:43 PDT   \n",
       "4  Limited quantity available / 156 sold  156.0  May 24, 2024 07:56:25 PDT   \n",
       "\n",
       "                             itemLocation  \n",
       "0     Allen Park, Michigan, United States  \n",
       "1                Atlanta, Georgia, Canada  \n",
       "2       Dearborn, Michigan, United States  \n",
       "3  Reinholds, Pennsylvania, United States  \n",
       "4       Brooklyn, New York, United States  "
      ]
     },
     "execution_count": 11,
     "metadata": {},
     "output_type": "execute_result"
    }
   ],
   "source": [
    "mens_perfume_head = mens_perfume.head()\n",
    "mens_perfume_head"
   ]
  },
  {
   "cell_type": "markdown",
   "id": "b00f877c-14fb-4887-9cb9-6c496ea8e872",
   "metadata": {},
   "source": [
    "2. Next, let's gather more information about the data using the **.info()** method."
   ]
  },
  {
   "cell_type": "code",
   "execution_count": 13,
   "id": "33d5ad8e-6916-4e06-b0ba-2e5692ede522",
   "metadata": {},
   "outputs": [
    {
     "name": "stdout",
     "output_type": "stream",
     "text": [
      "<class 'pandas.core.frame.DataFrame'>\n",
      "RangeIndex: 1000 entries, 0 to 999\n",
      "Data columns (total 10 columns):\n",
      " #   Column             Non-Null Count  Dtype  \n",
      "---  ------             --------------  -----  \n",
      " 0   brand              999 non-null    object \n",
      " 1   title              1000 non-null   object \n",
      " 2   type               997 non-null    object \n",
      " 3   price              1000 non-null   float64\n",
      " 4   priceWithCurrency  1000 non-null   object \n",
      " 5   available          889 non-null    float64\n",
      " 6   availableText      997 non-null    object \n",
      " 7   sold               994 non-null    float64\n",
      " 8   lastUpdated        947 non-null    object \n",
      " 9   itemLocation       1000 non-null   object \n",
      "dtypes: float64(3), object(7)\n",
      "memory usage: 78.3+ KB\n"
     ]
    }
   ],
   "source": [
    "mens_perfume.info()"
   ]
  },
  {
   "attachments": {
    "d724bc4e-d140-4f8e-a4e2-0c2070fdc3b7.png": {
     "image/png": "[encoded data removed]"
    }
   },
   "cell_type": "markdown",
   "id": "7a7367a5-3c19-4d9c-9755-f8e457dab303",
   "metadata": {},
   "source": [
    "*Result Explained*\n",
    "\n",
    "The result tells us there are 1000 rows and 10 columns\n",
    "\n",
    "![image.png](attachment:d724bc4e-d140-4f8e-a4e2-0c2070fdc3b7.png)\n"
   ]
  },
  {
   "cell_type": "markdown",
   "id": "60bfbdbe-c56d-4459-8ee0-9ce67a4f2f33",
   "metadata": {},
   "source": [
    "Including the name of each column, with the data type(Dtype):   \n",
    "***brand, title, type, price, priceWithCurrency, available, availableText, sold, lastUpdated, and itemLocation*** \n"
   ]
  },
  {
   "cell_type": "markdown",
   "id": "8ab91eef-0816-48c8-9964-b5a6374c7163",
   "metadata": {},
   "source": [
    "Moreover, the info() method also tells us how many Non-Null values there are present in each column, and in our data set it seems like there are some missing values for columns: *brand, type, available, availableText, sold, lastUpdated*"
   ]
  },
  {
   "cell_type": "markdown",
   "id": "a13a76d3-12fc-4935-b69d-cab42159412d",
   "metadata": {},
   "source": [
    "3. Missing values for mens_perfume dataset\n",
    "\n",
    "To see how many missing values there are, I'll check and count them using the **.isnull().sum()**"
   ]
  },
  {
   "cell_type": "code",
   "execution_count": 18,
   "id": "e3de6ab1-73e1-4c5c-8386-78d0c0c06b03",
   "metadata": {},
   "outputs": [
    {
     "data": {
      "text/plain": [
       "brand                  1\n",
       "title                  0\n",
       "type                   3\n",
       "price                  0\n",
       "priceWithCurrency      0\n",
       "available            111\n",
       "availableText          3\n",
       "sold                   6\n",
       "lastUpdated           53\n",
       "itemLocation           0\n",
       "dtype: int64"
      ]
     },
     "execution_count": 18,
     "metadata": {},
     "output_type": "execute_result"
    }
   ],
   "source": [
    "mens_perfume.isnull().sum()"
   ]
  },
  {
   "cell_type": "markdown",
   "id": "5b9eee0d-0cf0-4957-9ea9-2da91f398bf4",
   "metadata": {},
   "source": [
    "*Result Explained*\n",
    "\n",
    "As we can see, the total number of missing values in each column are as follows:  brand (1 missing), type (3 missing), available (111 missing), availableText (3 missing), sold (6 missing), lastUpdated (53 missing)"
   ]
  },
  {
   "cell_type": "code",
   "execution_count": 20,
   "id": "754ece54-9247-4975-be2a-c3a11b8439ff",
   "metadata": {},
   "outputs": [
    {
     "data": {
      "text/html": [
       "<div>\n",
       "<style scoped>\n",
       "    .dataframe tbody tr th:only-of-type {\n",
       "        vertical-align: middle;\n",
       "    }\n",
       "\n",
       "    .dataframe tbody tr th {\n",
       "        vertical-align: top;\n",
       "    }\n",
       "\n",
       "    .dataframe thead th {\n",
       "        text-align: right;\n",
       "    }\n",
       "</style>\n",
       "<table border=\"1\" class=\"dataframe\">\n",
       "  <thead>\n",
       "    <tr style=\"text-align: right;\">\n",
       "      <th></th>\n",
       "      <th>price</th>\n",
       "      <th>available</th>\n",
       "      <th>sold</th>\n",
       "    </tr>\n",
       "  </thead>\n",
       "  <tbody>\n",
       "    <tr>\n",
       "      <th>count</th>\n",
       "      <td>1000.000000</td>\n",
       "      <td>889.000000</td>\n",
       "      <td>994.000000</td>\n",
       "    </tr>\n",
       "    <tr>\n",
       "      <th>mean</th>\n",
       "      <td>46.481200</td>\n",
       "      <td>20.046119</td>\n",
       "      <td>766.266600</td>\n",
       "    </tr>\n",
       "    <tr>\n",
       "      <th>std</th>\n",
       "      <td>35.527862</td>\n",
       "      <td>61.547985</td>\n",
       "      <td>3200.971733</td>\n",
       "    </tr>\n",
       "    <tr>\n",
       "      <th>min</th>\n",
       "      <td>3.000000</td>\n",
       "      <td>2.000000</td>\n",
       "      <td>1.000000</td>\n",
       "    </tr>\n",
       "    <tr>\n",
       "      <th>25%</th>\n",
       "      <td>22.990000</td>\n",
       "      <td>5.000000</td>\n",
       "      <td>14.000000</td>\n",
       "    </tr>\n",
       "    <tr>\n",
       "      <th>50%</th>\n",
       "      <td>35.710000</td>\n",
       "      <td>10.000000</td>\n",
       "      <td>49.500000</td>\n",
       "    </tr>\n",
       "    <tr>\n",
       "      <th>75%</th>\n",
       "      <td>59.000000</td>\n",
       "      <td>10.000000</td>\n",
       "      <td>320.500000</td>\n",
       "    </tr>\n",
       "    <tr>\n",
       "      <th>max</th>\n",
       "      <td>259.090000</td>\n",
       "      <td>842.000000</td>\n",
       "      <td>54052.000000</td>\n",
       "    </tr>\n",
       "  </tbody>\n",
       "</table>\n",
       "</div>"
      ],
      "text/plain": [
       "             price   available          sold\n",
       "count  1000.000000  889.000000    994.000000\n",
       "mean     46.481200   20.046119    766.266600\n",
       "std      35.527862   61.547985   3200.971733\n",
       "min       3.000000    2.000000      1.000000\n",
       "25%      22.990000    5.000000     14.000000\n",
       "50%      35.710000   10.000000     49.500000\n",
       "75%      59.000000   10.000000    320.500000\n",
       "max     259.090000  842.000000  54052.000000"
      ]
     },
     "execution_count": 20,
     "metadata": {},
     "output_type": "execute_result"
    }
   ],
   "source": [
    "mens_perfume.describe()"
   ]
  },
  {
   "cell_type": "markdown",
   "id": "8a4a2c81-401c-456f-9756-af31520bc9c0",
   "metadata": {},
   "source": [
    "**Women's Perfume Dataset - Initial Overview**"
   ]
  },
  {
   "cell_type": "markdown",
   "id": "3265a640-f9b5-4f81-a2d7-28a7e82cefb1",
   "metadata": {},
   "source": [
    "For the second dataset, I will follow the same steps to get an initial overview as I did with the first dataset."
   ]
  },
  {
   "cell_type": "markdown",
   "id": "1f530bca-cad1-46bd-b571-43ccc323bd8e",
   "metadata": {},
   "source": [
    "1. First, I will inspect the first five rows of **womens_perfume** dataset with **.head()** method to understand the structure."
   ]
  },
  {
   "cell_type": "code",
   "execution_count": 24,
   "id": "c7a147cf-ed4b-48ec-b8ab-895ab4be5e2f",
   "metadata": {},
   "outputs": [
    {
     "data": {
      "text/html": [
       "<div>\n",
       "<style scoped>\n",
       "    .dataframe tbody tr th:only-of-type {\n",
       "        vertical-align: middle;\n",
       "    }\n",
       "\n",
       "    .dataframe tbody tr th {\n",
       "        vertical-align: top;\n",
       "    }\n",
       "\n",
       "    .dataframe thead th {\n",
       "        text-align: right;\n",
       "    }\n",
       "</style>\n",
       "<table border=\"1\" class=\"dataframe\">\n",
       "  <thead>\n",
       "    <tr style=\"text-align: right;\">\n",
       "      <th></th>\n",
       "      <th>brand</th>\n",
       "      <th>title</th>\n",
       "      <th>type</th>\n",
       "      <th>price</th>\n",
       "      <th>priceWithCurrency</th>\n",
       "      <th>available</th>\n",
       "      <th>availableText</th>\n",
       "      <th>sold</th>\n",
       "      <th>lastUpdated</th>\n",
       "      <th>itemLocation</th>\n",
       "    </tr>\n",
       "  </thead>\n",
       "  <tbody>\n",
       "    <tr>\n",
       "      <th>0</th>\n",
       "      <td>Carolina Herrera</td>\n",
       "      <td>Good Girl by Carolina Herrera 2.7 oz Eau De Pa...</td>\n",
       "      <td>Eau de Parfum</td>\n",
       "      <td>43.99</td>\n",
       "      <td>US $43.99/ea</td>\n",
       "      <td>2.0</td>\n",
       "      <td>2 available / 393 sold</td>\n",
       "      <td>393.0</td>\n",
       "      <td>May 23, 2024 10:43:50 PDT</td>\n",
       "      <td>Thomasville, Alabama, United States</td>\n",
       "    </tr>\n",
       "    <tr>\n",
       "      <th>1</th>\n",
       "      <td>As Shown</td>\n",
       "      <td>Parfums de Marly Delina La Rosee Eau de Parfum...</td>\n",
       "      <td>Eau de Parfum</td>\n",
       "      <td>79.99</td>\n",
       "      <td>US $79.99</td>\n",
       "      <td>5.0</td>\n",
       "      <td>5 available / 40 sold</td>\n",
       "      <td>40.0</td>\n",
       "      <td>May 24, 2024 00:15:48 PDT</td>\n",
       "      <td>New Jersey, Hong Kong</td>\n",
       "    </tr>\n",
       "    <tr>\n",
       "      <th>2</th>\n",
       "      <td>PRADA</td>\n",
       "      <td>PRADA Paradoxe by Prada EDP 3.0oz/90ml Spray P...</td>\n",
       "      <td>Eau de Parfum</td>\n",
       "      <td>59.99</td>\n",
       "      <td>US $59.99</td>\n",
       "      <td>10.0</td>\n",
       "      <td>More than 10 available / 35 sold</td>\n",
       "      <td>35.0</td>\n",
       "      <td>May 14, 2024 20:54:25 PDT</td>\n",
       "      <td>Orange, New Jersey, United States</td>\n",
       "    </tr>\n",
       "    <tr>\n",
       "      <th>3</th>\n",
       "      <td>As Show</td>\n",
       "      <td>J'adore Parfum D'eau by Christian 3.4 oz EDP F...</td>\n",
       "      <td>Eau de Parfum</td>\n",
       "      <td>59.99</td>\n",
       "      <td>US $59.99/ea</td>\n",
       "      <td>10.0</td>\n",
       "      <td>More than 10 available / 9 sold</td>\n",
       "      <td>9.0</td>\n",
       "      <td>May 23, 2024 01:23:05 PDT</td>\n",
       "      <td>USA, New Jersey, Hong Kong</td>\n",
       "    </tr>\n",
       "    <tr>\n",
       "      <th>4</th>\n",
       "      <td>Khadlaj</td>\n",
       "      <td>Shiyaaka for Men EDP Spray 100ML (3.4 FL.OZ) B...</td>\n",
       "      <td>Eau de Parfum</td>\n",
       "      <td>29.99</td>\n",
       "      <td>US $29.99/ea</td>\n",
       "      <td>10.0</td>\n",
       "      <td>More than 10 available</td>\n",
       "      <td>NaN</td>\n",
       "      <td>NaN</td>\n",
       "      <td>Little Ferry, New Jersey, United States</td>\n",
       "    </tr>\n",
       "  </tbody>\n",
       "</table>\n",
       "</div>"
      ],
      "text/plain": [
       "              brand                                              title  \\\n",
       "0  Carolina Herrera  Good Girl by Carolina Herrera 2.7 oz Eau De Pa...   \n",
       "1          As Shown  Parfums de Marly Delina La Rosee Eau de Parfum...   \n",
       "2             PRADA  PRADA Paradoxe by Prada EDP 3.0oz/90ml Spray P...   \n",
       "3           As Show  J'adore Parfum D'eau by Christian 3.4 oz EDP F...   \n",
       "4           Khadlaj  Shiyaaka for Men EDP Spray 100ML (3.4 FL.OZ) B...   \n",
       "\n",
       "            type  price priceWithCurrency  available  \\\n",
       "0  Eau de Parfum  43.99      US $43.99/ea        2.0   \n",
       "1  Eau de Parfum  79.99         US $79.99        5.0   \n",
       "2  Eau de Parfum  59.99         US $59.99       10.0   \n",
       "3  Eau de Parfum  59.99      US $59.99/ea       10.0   \n",
       "4  Eau de Parfum  29.99      US $29.99/ea       10.0   \n",
       "\n",
       "                      availableText   sold                lastUpdated  \\\n",
       "0            2 available / 393 sold  393.0  May 23, 2024 10:43:50 PDT   \n",
       "1             5 available / 40 sold   40.0  May 24, 2024 00:15:48 PDT   \n",
       "2  More than 10 available / 35 sold   35.0  May 14, 2024 20:54:25 PDT   \n",
       "3   More than 10 available / 9 sold    9.0  May 23, 2024 01:23:05 PDT   \n",
       "4            More than 10 available    NaN                        NaN   \n",
       "\n",
       "                              itemLocation  \n",
       "0      Thomasville, Alabama, United States  \n",
       "1                    New Jersey, Hong Kong  \n",
       "2        Orange, New Jersey, United States  \n",
       "3               USA, New Jersey, Hong Kong  \n",
       "4  Little Ferry, New Jersey, United States  "
      ]
     },
     "execution_count": 24,
     "metadata": {},
     "output_type": "execute_result"
    }
   ],
   "source": [
    "womens_perfume.head()"
   ]
  },
  {
   "cell_type": "markdown",
   "id": "97375db9-edba-4554-ae7a-f48f56e5f1c4",
   "metadata": {},
   "source": [
    "2. I'll gather more details about the data using the info() method."
   ]
  },
  {
   "cell_type": "code",
   "execution_count": 26,
   "id": "0c365a5f-8816-4fe9-94f7-8519f649c260",
   "metadata": {},
   "outputs": [
    {
     "name": "stdout",
     "output_type": "stream",
     "text": [
      "<class 'pandas.core.frame.DataFrame'>\n",
      "RangeIndex: 1000 entries, 0 to 999\n",
      "Data columns (total 10 columns):\n",
      " #   Column             Non-Null Count  Dtype  \n",
      "---  ------             --------------  -----  \n",
      " 0   brand              999 non-null    object \n",
      " 1   title              1000 non-null   object \n",
      " 2   type               998 non-null    object \n",
      " 3   price              1000 non-null   float64\n",
      " 4   priceWithCurrency  1000 non-null   object \n",
      " 5   available          869 non-null    float64\n",
      " 6   availableText      992 non-null    object \n",
      " 7   sold               984 non-null    float64\n",
      " 8   lastUpdated        927 non-null    object \n",
      " 9   itemLocation       1000 non-null   object \n",
      "dtypes: float64(3), object(7)\n",
      "memory usage: 78.3+ KB\n"
     ]
    }
   ],
   "source": [
    "womens_perfume.info()"
   ]
  },
  {
   "attachments": {
    "0dd311cf-ce61-4b94-9c25-aa8c732616c4.png": {
     "image/png": "[encoded data removed]"
    }
   },
   "cell_type": "markdown",
   "id": "58ad3f37-32f5-48f0-8e65-d51032663c62",
   "metadata": {},
   "source": [
    "*Result Explained*\n",
    "\n",
    "Similar to the men's perfume dataset, the women's perfume dataset also contains 1,000 rows and 10 columns.\n",
    "\n",
    "![image.png](attachment:0dd311cf-ce61-4b94-9c25-aa8c732616c4.png)"
   ]
  },
  {
   "cell_type": "markdown",
   "id": "22f7b113-2c41-4432-a6f5-0a0c1b0473da",
   "metadata": {},
   "source": [
    "And here we have some missing values in the following columns: *brand, type, available, availableText, sold, and lastUpdated* for see exactly how many I will use the .isnull().sum()"
   ]
  },
  {
   "cell_type": "markdown",
   "id": "a2a9fd85-b72e-469c-8f63-dc86d0eacbe2",
   "metadata": {},
   "source": [
    "3. Missing values for womens_perfume dataset"
   ]
  },
  {
   "cell_type": "code",
   "execution_count": 30,
   "id": "da09c560-dec4-4ccf-b4d3-58bacec4f92d",
   "metadata": {},
   "outputs": [
    {
     "data": {
      "text/plain": [
       "brand                  1\n",
       "title                  0\n",
       "type                   2\n",
       "price                  0\n",
       "priceWithCurrency      0\n",
       "available            131\n",
       "availableText          8\n",
       "sold                  16\n",
       "lastUpdated           73\n",
       "itemLocation           0\n",
       "dtype: int64"
      ]
     },
     "execution_count": 30,
     "metadata": {},
     "output_type": "execute_result"
    }
   ],
   "source": [
    "womens_perfume.isnull().sum()"
   ]
  },
  {
   "cell_type": "markdown",
   "id": "096ca6ef-d7a0-460d-95c1-f424893bc1d2",
   "metadata": {},
   "source": [
    "*Result Explained*\n",
    "\n",
    "As we can see, the total number of missing values in each column are as follows: brand (1 missing), type (2 missing), available (131 missing), availableText (8 missing), sold (16 missing), and lastUpdated (73 missing)."
   ]
  },
  {
   "cell_type": "markdown",
   "id": "6a1aadbf-cee9-47e5-a0c9-ed79b2609e25",
   "metadata": {},
   "source": [
    "### Step 3: Data Cleaning\n"
   ]
  },
  {
   "cell_type": "markdown",
   "id": "a50bc5df-5674-4205-bdc2-1232739bc6c4",
   "metadata": {},
   "source": [
    "**Handling Missing Values**"
   ]
  },
  {
   "cell_type": "markdown",
   "id": "cff996e1-b843-4afb-a7d7-1dc22e9f6348",
   "metadata": {},
   "source": [
    "Before making any changes to the original data, I will create a copy of it for both datasets.This ensures I can always revert back to the original if needed."
   ]
  },
  {
   "cell_type": "markdown",
   "id": "60859951-037f-4a55-8694-0b7b3738a708",
   "metadata": {},
   "source": [
    "**3.1** Make copies of both datasets"
   ]
  },
  {
   "cell_type": "code",
   "execution_count": 36,
   "id": "7c43b9ce-af74-41ce-83e9-c1ff51fa4030",
   "metadata": {},
   "outputs": [],
   "source": [
    "mens_perfume_copy = mens_perfume.copy() # copy of the men's perfume dataset\n",
    "womens_perfume_copy = womens_perfume.copy() # copy of the women's perfume dataset"
   ]
  },
  {
   "cell_type": "markdown",
   "id": "550467bb-5dcf-4da5-b3f9-11347ec292cd",
   "metadata": {},
   "source": [
    "**3.2** Handle missing values in necessary columns from copies of original datasets\n",
    "\n",
    "- ***'brand' column***: I will replace the missing values in the 'brand' column with 'Unknown' because I consider it important for my analysis, and this will help retain data integrity"
   ]
  },
  {
   "cell_type": "markdown",
   "id": "9bad53ba-99fd-4ea3-a95d-32bd2f566106",
   "metadata": {},
   "source": [
    "- ***'type'column***: I will replace the missing values in the 'type' column with 'Unknown', because product type is essential for categorization and customer profiling. And replacing missing values ensures no data is lost."
   ]
  },
  {
   "cell_type": "markdown",
   "id": "2f400893-4e83-44a1-92d1-53d9ece4ab90",
   "metadata": {},
   "source": [
    "- ***'available'column***: I will replace the missing values in the 'available' column with '0'. Missing stock data likely means the product isn't available and replacing it with '0' keeps the data consistent without dropping rows."
   ]
  },
  {
   "cell_type": "markdown",
   "id": "375c9d93-37f5-4999-8602-bb6042115a1b",
   "metadata": {},
   "source": [
    "- ***'sold'***: Missing sales data likely indicates no sales. Here I will replace with '0' because this allows for accurate analysis without discarding data."
   ]
  },
  {
   "cell_type": "code",
   "execution_count": 41,
   "id": "fca79afb-8d08-4657-baae-77c52940a4fc",
   "metadata": {},
   "outputs": [],
   "source": [
    "mens_perfume_copy = mens_perfume_copy.fillna({\n",
    "    'brand': 'Unknown',\n",
    "    'type': 'Unknown',\n",
    "    'available': 0,\n",
    "    'sold': 0,  \n",
    "})"
   ]
  },
  {
   "cell_type": "code",
   "execution_count": 42,
   "id": "be2fd8ce-9dd8-4bed-9c1c-e9593b5dd794",
   "metadata": {},
   "outputs": [],
   "source": [
    "womens_perfume_copy = womens_perfume_copy.fillna({\n",
    "    'brand': 'Unknown',\n",
    "    'type': 'Unknown',\n",
    "    'available': 0,\n",
    "    'sold': 0,\n",
    "})"
   ]
  },
  {
   "cell_type": "markdown",
   "id": "642b878b-9800-442d-8f31-089502f74a24",
   "metadata": {},
   "source": [
    "Because the 'availableText' and lastUpdated' columns are not crucial for my analysis, I will drop them with .drop() method"
   ]
  },
  {
   "cell_type": "code",
   "execution_count": 44,
   "id": "c4c0bd23-8c7e-4772-b308-079a0f7ce191",
   "metadata": {},
   "outputs": [],
   "source": [
    "# drop unnecessary columns\n",
    "mens_perfume_copy = mens_perfume_copy.drop(columns=['availableText', 'lastUpdated'])\n",
    "womens_perfume_copy = womens_perfume_copy.drop(columns=['availableText', 'lastUpdated'])"
   ]
  },
  {
   "cell_type": "markdown",
   "id": "c7232940-4a0e-4004-a299-097ad50ae90a",
   "metadata": {},
   "source": [
    "**3.3** Verify that missing values have been handled by using ***.isnull().sum()***. "
   ]
  },
  {
   "cell_type": "code",
   "execution_count": 46,
   "id": "7f2302e3-6ff2-4e6e-a5ac-1b5828d6849e",
   "metadata": {},
   "outputs": [
    {
     "data": {
      "text/plain": [
       "brand                0\n",
       "title                0\n",
       "type                 0\n",
       "price                0\n",
       "priceWithCurrency    0\n",
       "available            0\n",
       "sold                 0\n",
       "itemLocation         0\n",
       "dtype: int64"
      ]
     },
     "execution_count": 46,
     "metadata": {},
     "output_type": "execute_result"
    }
   ],
   "source": [
    "mens_perfume_copy.isnull().sum()"
   ]
  },
  {
   "cell_type": "code",
   "execution_count": 47,
   "id": "1aac832c-4589-46ba-92c2-8262d0394781",
   "metadata": {},
   "outputs": [
    {
     "data": {
      "text/plain": [
       "brand                0\n",
       "title                0\n",
       "type                 0\n",
       "price                0\n",
       "priceWithCurrency    0\n",
       "available            0\n",
       "sold                 0\n",
       "itemLocation         0\n",
       "dtype: int64"
      ]
     },
     "execution_count": 47,
     "metadata": {},
     "output_type": "execute_result"
    }
   ],
   "source": [
    "womens_perfume_copy.isnull().sum()"
   ]
  },
  {
   "cell_type": "markdown",
   "id": "c3f459a7-354a-4af3-a36f-dd2d74e50098",
   "metadata": {},
   "source": [
    "Now that I have ensured there are no missing values in either dataset, the next important step in data cleaning is to check for duplicates."
   ]
  },
  {
   "cell_type": "markdown",
   "id": "4fc2fe75-885f-4c01-adce-3ec1256ffd8f",
   "metadata": {},
   "source": [
    "**Check for duplicates**"
   ]
  },
  {
   "cell_type": "code",
   "execution_count": 50,
   "id": "810d8ae5-c408-4117-8b3e-5c3d68d84baa",
   "metadata": {},
   "outputs": [
    {
     "data": {
      "text/plain": [
       "0"
      ]
     },
     "execution_count": 50,
     "metadata": {},
     "output_type": "execute_result"
    }
   ],
   "source": [
    "mens_perfume_copy.duplicated().sum()"
   ]
  },
  {
   "cell_type": "markdown",
   "id": "52a5651a-cde7-40f2-8263-90ac21fa66a7",
   "metadata": {},
   "source": [
    "In the mens_perfume_copy there are not duplicates : 0 "
   ]
  },
  {
   "cell_type": "code",
   "execution_count": 52,
   "id": "4a8672d6-7946-4cbc-94ca-e5abe2651365",
   "metadata": {},
   "outputs": [
    {
     "data": {
      "text/plain": [
       "1"
      ]
     },
     "execution_count": 52,
     "metadata": {},
     "output_type": "execute_result"
    }
   ],
   "source": [
    "womens_perfume_copy.duplicated().sum()"
   ]
  },
  {
   "cell_type": "markdown",
   "id": "a5d4ab57-3a46-4d60-8aa5-823f915fb63c",
   "metadata": {},
   "source": [
    "In the women's_perfume_copy dataset, I found one duplicate."
   ]
  },
  {
   "cell_type": "code",
   "execution_count": 54,
   "id": "4c50cff4-2b1e-4cda-8da8-26b58699037f",
   "metadata": {},
   "outputs": [
    {
     "data": {
      "text/html": [
       "<div>\n",
       "<style scoped>\n",
       "    .dataframe tbody tr th:only-of-type {\n",
       "        vertical-align: middle;\n",
       "    }\n",
       "\n",
       "    .dataframe tbody tr th {\n",
       "        vertical-align: top;\n",
       "    }\n",
       "\n",
       "    .dataframe thead th {\n",
       "        text-align: right;\n",
       "    }\n",
       "</style>\n",
       "<table border=\"1\" class=\"dataframe\">\n",
       "  <thead>\n",
       "    <tr style=\"text-align: right;\">\n",
       "      <th></th>\n",
       "      <th>brand</th>\n",
       "      <th>title</th>\n",
       "      <th>type</th>\n",
       "      <th>price</th>\n",
       "      <th>priceWithCurrency</th>\n",
       "      <th>available</th>\n",
       "      <th>sold</th>\n",
       "      <th>itemLocation</th>\n",
       "    </tr>\n",
       "  </thead>\n",
       "  <tbody>\n",
       "    <tr>\n",
       "      <th>344</th>\n",
       "      <td>FLOWER</td>\n",
       "      <td>12 Piece Woman’s Perfume Lot: Assorted scents ...</td>\n",
       "      <td>Perfume</td>\n",
       "      <td>48.0</td>\n",
       "      <td>US $48.00</td>\n",
       "      <td>4.0</td>\n",
       "      <td>1.0</td>\n",
       "      <td>Webster, Florida, United States</td>\n",
       "    </tr>\n",
       "    <tr>\n",
       "      <th>662</th>\n",
       "      <td>FLOWER</td>\n",
       "      <td>12 Piece Woman’s Perfume Lot: Assorted scents ...</td>\n",
       "      <td>Perfume</td>\n",
       "      <td>48.0</td>\n",
       "      <td>US $48.00</td>\n",
       "      <td>4.0</td>\n",
       "      <td>1.0</td>\n",
       "      <td>Webster, Florida, United States</td>\n",
       "    </tr>\n",
       "  </tbody>\n",
       "</table>\n",
       "</div>"
      ],
      "text/plain": [
       "      brand                                              title     type  \\\n",
       "344  FLOWER  12 Piece Woman’s Perfume Lot: Assorted scents ...  Perfume   \n",
       "662  FLOWER  12 Piece Woman’s Perfume Lot: Assorted scents ...  Perfume   \n",
       "\n",
       "     price priceWithCurrency  available  sold                     itemLocation  \n",
       "344   48.0         US $48.00        4.0   1.0  Webster, Florida, United States  \n",
       "662   48.0         US $48.00        4.0   1.0  Webster, Florida, United States  "
      ]
     },
     "execution_count": 54,
     "metadata": {},
     "output_type": "execute_result"
    }
   ],
   "source": [
    "# display duplicate rows for the women's dataset\n",
    "duplicates_women = womens_perfume_copy[womens_perfume_copy.duplicated(keep=False)]\n",
    "duplicates_women"
   ]
  },
  {
   "cell_type": "markdown",
   "id": "2debd020-6168-4d7a-bd79-6f14fd41723e",
   "metadata": {},
   "source": [
    "To remove the duplicates, I will use **.drop_duplicates()** with the **(inplace=True)** parameter to make sure the changes are applied directly to the ***womens_perfume_copy*** DataFrame, as follows:"
   ]
  },
  {
   "cell_type": "code",
   "execution_count": 56,
   "id": "7bd8806b-9988-40b6-a18d-d867852654ad",
   "metadata": {},
   "outputs": [],
   "source": [
    "#remove duplicates\n",
    "womens_perfume_copy.drop_duplicates(inplace=True)"
   ]
  },
  {
   "cell_type": "code",
   "execution_count": 57,
   "id": "92336c58-2e95-4381-9986-11a560fb6870",
   "metadata": {},
   "outputs": [
    {
     "data": {
      "text/plain": [
       "0"
      ]
     },
     "execution_count": 57,
     "metadata": {},
     "output_type": "execute_result"
    }
   ],
   "source": [
    "# check if duplicates were removed \n",
    "duplicates_check = womens_perfume_copy.duplicated().sum()\n",
    "duplicates_check"
   ]
  },
  {
   "cell_type": "markdown",
   "id": "c9c832ac-6c7c-4964-a3cc-3f4713a04efe",
   "metadata": {},
   "source": [
    "I wil reset the index to create a clean, consecutive numbering of rows after removing duplicates, ensuring the index reflects the current data structure without gaps."
   ]
  },
  {
   "cell_type": "code",
   "execution_count": 59,
   "id": "5cd58972-a7f6-4ca4-89b4-de2d5dea69ad",
   "metadata": {},
   "outputs": [],
   "source": [
    "womens_perfume_copy.reset_index(drop=True, inplace=True)"
   ]
  },
  {
   "cell_type": "code",
   "execution_count": 60,
   "id": "ebeba2d3-478a-40c9-9ac2-5e25c2d0d452",
   "metadata": {
    "scrolled": true
   },
   "outputs": [
    {
     "data": {
      "text/html": [
       "<div>\n",
       "<style scoped>\n",
       "    .dataframe tbody tr th:only-of-type {\n",
       "        vertical-align: middle;\n",
       "    }\n",
       "\n",
       "    .dataframe tbody tr th {\n",
       "        vertical-align: top;\n",
       "    }\n",
       "\n",
       "    .dataframe thead th {\n",
       "        text-align: right;\n",
       "    }\n",
       "</style>\n",
       "<table border=\"1\" class=\"dataframe\">\n",
       "  <thead>\n",
       "    <tr style=\"text-align: right;\">\n",
       "      <th></th>\n",
       "      <th>brand</th>\n",
       "      <th>title</th>\n",
       "      <th>type</th>\n",
       "      <th>price</th>\n",
       "      <th>priceWithCurrency</th>\n",
       "      <th>available</th>\n",
       "      <th>sold</th>\n",
       "      <th>itemLocation</th>\n",
       "    </tr>\n",
       "  </thead>\n",
       "  <tbody>\n",
       "    <tr>\n",
       "      <th>0</th>\n",
       "      <td>Carolina Herrera</td>\n",
       "      <td>Good Girl by Carolina Herrera 2.7 oz Eau De Pa...</td>\n",
       "      <td>Eau de Parfum</td>\n",
       "      <td>43.99</td>\n",
       "      <td>US $43.99/ea</td>\n",
       "      <td>2.0</td>\n",
       "      <td>393.0</td>\n",
       "      <td>Thomasville, Alabama, United States</td>\n",
       "    </tr>\n",
       "    <tr>\n",
       "      <th>1</th>\n",
       "      <td>As Shown</td>\n",
       "      <td>Parfums de Marly Delina La Rosee Eau de Parfum...</td>\n",
       "      <td>Eau de Parfum</td>\n",
       "      <td>79.99</td>\n",
       "      <td>US $79.99</td>\n",
       "      <td>5.0</td>\n",
       "      <td>40.0</td>\n",
       "      <td>New Jersey, Hong Kong</td>\n",
       "    </tr>\n",
       "    <tr>\n",
       "      <th>2</th>\n",
       "      <td>PRADA</td>\n",
       "      <td>PRADA Paradoxe by Prada EDP 3.0oz/90ml Spray P...</td>\n",
       "      <td>Eau de Parfum</td>\n",
       "      <td>59.99</td>\n",
       "      <td>US $59.99</td>\n",
       "      <td>10.0</td>\n",
       "      <td>35.0</td>\n",
       "      <td>Orange, New Jersey, United States</td>\n",
       "    </tr>\n",
       "    <tr>\n",
       "      <th>3</th>\n",
       "      <td>As Show</td>\n",
       "      <td>J'adore Parfum D'eau by Christian 3.4 oz EDP F...</td>\n",
       "      <td>Eau de Parfum</td>\n",
       "      <td>59.99</td>\n",
       "      <td>US $59.99/ea</td>\n",
       "      <td>10.0</td>\n",
       "      <td>9.0</td>\n",
       "      <td>USA, New Jersey, Hong Kong</td>\n",
       "    </tr>\n",
       "    <tr>\n",
       "      <th>4</th>\n",
       "      <td>Khadlaj</td>\n",
       "      <td>Shiyaaka for Men EDP Spray 100ML (3.4 FL.OZ) B...</td>\n",
       "      <td>Eau de Parfum</td>\n",
       "      <td>29.99</td>\n",
       "      <td>US $29.99/ea</td>\n",
       "      <td>10.0</td>\n",
       "      <td>0.0</td>\n",
       "      <td>Little Ferry, New Jersey, United States</td>\n",
       "    </tr>\n",
       "  </tbody>\n",
       "</table>\n",
       "</div>"
      ],
      "text/plain": [
       "              brand                                              title  \\\n",
       "0  Carolina Herrera  Good Girl by Carolina Herrera 2.7 oz Eau De Pa...   \n",
       "1          As Shown  Parfums de Marly Delina La Rosee Eau de Parfum...   \n",
       "2             PRADA  PRADA Paradoxe by Prada EDP 3.0oz/90ml Spray P...   \n",
       "3           As Show  J'adore Parfum D'eau by Christian 3.4 oz EDP F...   \n",
       "4           Khadlaj  Shiyaaka for Men EDP Spray 100ML (3.4 FL.OZ) B...   \n",
       "\n",
       "            type  price priceWithCurrency  available   sold  \\\n",
       "0  Eau de Parfum  43.99      US $43.99/ea        2.0  393.0   \n",
       "1  Eau de Parfum  79.99         US $79.99        5.0   40.0   \n",
       "2  Eau de Parfum  59.99         US $59.99       10.0   35.0   \n",
       "3  Eau de Parfum  59.99      US $59.99/ea       10.0    9.0   \n",
       "4  Eau de Parfum  29.99      US $29.99/ea       10.0    0.0   \n",
       "\n",
       "                              itemLocation  \n",
       "0      Thomasville, Alabama, United States  \n",
       "1                    New Jersey, Hong Kong  \n",
       "2        Orange, New Jersey, United States  \n",
       "3               USA, New Jersey, Hong Kong  \n",
       "4  Little Ferry, New Jersey, United States  "
      ]
     },
     "execution_count": 60,
     "metadata": {},
     "output_type": "execute_result"
    }
   ],
   "source": [
    "# verify the data\n",
    "womens_perfume_copy.head()"
   ]
  },
  {
   "cell_type": "markdown",
   "id": "3db81641-51c3-49fe-bf36-577939feb2eb",
   "metadata": {},
   "source": [
    "**Data type correction**"
   ]
  },
  {
   "cell_type": "markdown",
   "id": "ad8c5c57-c083-417f-933d-c16613854359",
   "metadata": {},
   "source": [
    "Because the **'available'** and **'sold'** columns refer to the number of items in stock and sold, respectively, and they are represented as float values, I will convert them to integers. Stock counts should be whole numbers, not fractional values, as decimals do not accurately reflect the actual number of perfumes available or sold.\n",
    "\n",
    "To do this, I will use the ***.astype(int)*** method to convert the values to integers."
   ]
  },
  {
   "cell_type": "code",
   "execution_count": 63,
   "id": "ec2ea9a4-8a9b-46d8-bca5-fd38c1834c51",
   "metadata": {},
   "outputs": [],
   "source": [
    "#convert floats to integers for cols 'available' and 'sold' for mens_perfume_copy\n",
    "\n",
    "mens_perfume_copy['available'] = mens_perfume_copy['available'].astype(int)\n",
    "mens_perfume_copy['sold'] = mens_perfume_copy['sold'].astype(int)"
   ]
  },
  {
   "cell_type": "code",
   "execution_count": 64,
   "id": "488ddf27-a4a0-4119-bd0a-58857c757a36",
   "metadata": {},
   "outputs": [],
   "source": [
    "#convert floats to integers for cols 'available' and 'sold' for womens_perfume_copy\n",
    "\n",
    "womens_perfume_copy['available'] = womens_perfume_copy['available'].astype(int)\n",
    "womens_perfume_copy['sold'] = womens_perfume_copy['sold'].astype(int)"
   ]
  },
  {
   "cell_type": "code",
   "execution_count": 65,
   "id": "3b9d753d-2330-46c3-8e4a-08b088d13d02",
   "metadata": {},
   "outputs": [
    {
     "data": {
      "text/html": [
       "<div>\n",
       "<style scoped>\n",
       "    .dataframe tbody tr th:only-of-type {\n",
       "        vertical-align: middle;\n",
       "    }\n",
       "\n",
       "    .dataframe tbody tr th {\n",
       "        vertical-align: top;\n",
       "    }\n",
       "\n",
       "    .dataframe thead th {\n",
       "        text-align: right;\n",
       "    }\n",
       "</style>\n",
       "<table border=\"1\" class=\"dataframe\">\n",
       "  <thead>\n",
       "    <tr style=\"text-align: right;\">\n",
       "      <th></th>\n",
       "      <th>brand</th>\n",
       "      <th>title</th>\n",
       "      <th>type</th>\n",
       "      <th>price</th>\n",
       "      <th>priceWithCurrency</th>\n",
       "      <th>available</th>\n",
       "      <th>sold</th>\n",
       "      <th>itemLocation</th>\n",
       "    </tr>\n",
       "  </thead>\n",
       "  <tbody>\n",
       "    <tr>\n",
       "      <th>0</th>\n",
       "      <td>Carolina Herrera</td>\n",
       "      <td>Good Girl by Carolina Herrera 2.7 oz Eau De Pa...</td>\n",
       "      <td>Eau de Parfum</td>\n",
       "      <td>43.99</td>\n",
       "      <td>US $43.99/ea</td>\n",
       "      <td>2</td>\n",
       "      <td>393</td>\n",
       "      <td>Thomasville, Alabama, United States</td>\n",
       "    </tr>\n",
       "    <tr>\n",
       "      <th>1</th>\n",
       "      <td>As Shown</td>\n",
       "      <td>Parfums de Marly Delina La Rosee Eau de Parfum...</td>\n",
       "      <td>Eau de Parfum</td>\n",
       "      <td>79.99</td>\n",
       "      <td>US $79.99</td>\n",
       "      <td>5</td>\n",
       "      <td>40</td>\n",
       "      <td>New Jersey, Hong Kong</td>\n",
       "    </tr>\n",
       "  </tbody>\n",
       "</table>\n",
       "</div>"
      ],
      "text/plain": [
       "              brand                                              title  \\\n",
       "0  Carolina Herrera  Good Girl by Carolina Herrera 2.7 oz Eau De Pa...   \n",
       "1          As Shown  Parfums de Marly Delina La Rosee Eau de Parfum...   \n",
       "\n",
       "            type  price priceWithCurrency  available  sold  \\\n",
       "0  Eau de Parfum  43.99      US $43.99/ea          2   393   \n",
       "1  Eau de Parfum  79.99         US $79.99          5    40   \n",
       "\n",
       "                          itemLocation  \n",
       "0  Thomasville, Alabama, United States  \n",
       "1                New Jersey, Hong Kong  "
      ]
     },
     "execution_count": 65,
     "metadata": {},
     "output_type": "execute_result"
    }
   ],
   "source": [
    "womens_perfume_copy.head(2)"
   ]
  },
  {
   "cell_type": "markdown",
   "id": "7c3801d1-e4c1-4996-aa33-2230113e51e2",
   "metadata": {},
   "source": [
    "I will **Rename column** - ***priceWithCurrency*** for better readability and remove 'US' from the price\n"
   ]
  },
  {
   "cell_type": "code",
   "execution_count": 67,
   "id": "f4037ac6-307d-4d91-b6aa-f69d30ef8c35",
   "metadata": {},
   "outputs": [
    {
     "data": {
      "text/plain": [
       "(Index(['brand', 'title', 'type', 'price', 'price_usd_unit', 'available',\n",
       "        'sold', 'itemLocation'],\n",
       "       dtype='object'),\n",
       " Index(['brand', 'title', 'type', 'price', 'price_usd_unit', 'available',\n",
       "        'sold', 'itemLocation'],\n",
       "       dtype='object'))"
      ]
     },
     "execution_count": 67,
     "metadata": {},
     "output_type": "execute_result"
    }
   ],
   "source": [
    "# rename the column to 'price_usd_unit'\n",
    "mens_perfume_copy.rename(columns={'priceWithCurrency': 'price_usd_unit'}, inplace=True)\n",
    "womens_perfume_copy.rename(columns={'priceWithCurrency': 'price_usd_unit'}, inplace=True)\n",
    "\n",
    "# display the updated column names to confirm the change\n",
    "mens_perfume_copy.columns, womens_perfume_copy.columns"
   ]
  },
  {
   "cell_type": "code",
   "execution_count": 68,
   "id": "07e64da4-ae82-4dd5-b561-4b54c13d049d",
   "metadata": {},
   "outputs": [],
   "source": [
    "# remove \"US \" from the price\n",
    "mens_perfume_copy['price_usd_unit'] = mens_perfume_copy['price_usd_unit'].str.replace('US ', '', regex=False)\n",
    "womens_perfume_copy['price_usd_unit'] = womens_perfume_copy['price_usd_unit'].str.replace('US ', '', regex=False)"
   ]
  },
  {
   "cell_type": "code",
   "execution_count": 69,
   "id": "5bb31849-a20a-44c2-bbdb-a3b728206027",
   "metadata": {},
   "outputs": [
    {
     "data": {
      "text/html": [
       "<div>\n",
       "<style scoped>\n",
       "    .dataframe tbody tr th:only-of-type {\n",
       "        vertical-align: middle;\n",
       "    }\n",
       "\n",
       "    .dataframe tbody tr th {\n",
       "        vertical-align: top;\n",
       "    }\n",
       "\n",
       "    .dataframe thead th {\n",
       "        text-align: right;\n",
       "    }\n",
       "</style>\n",
       "<table border=\"1\" class=\"dataframe\">\n",
       "  <thead>\n",
       "    <tr style=\"text-align: right;\">\n",
       "      <th></th>\n",
       "      <th>brand</th>\n",
       "      <th>title</th>\n",
       "      <th>type</th>\n",
       "      <th>price</th>\n",
       "      <th>price_usd_unit</th>\n",
       "      <th>available</th>\n",
       "      <th>sold</th>\n",
       "      <th>itemLocation</th>\n",
       "    </tr>\n",
       "  </thead>\n",
       "  <tbody>\n",
       "    <tr>\n",
       "      <th>0</th>\n",
       "      <td>Carolina Herrera</td>\n",
       "      <td>Good Girl by Carolina Herrera 2.7 oz Eau De Pa...</td>\n",
       "      <td>Eau de Parfum</td>\n",
       "      <td>43.99</td>\n",
       "      <td>$43.99/ea</td>\n",
       "      <td>2</td>\n",
       "      <td>393</td>\n",
       "      <td>Thomasville, Alabama, United States</td>\n",
       "    </tr>\n",
       "    <tr>\n",
       "      <th>1</th>\n",
       "      <td>As Shown</td>\n",
       "      <td>Parfums de Marly Delina La Rosee Eau de Parfum...</td>\n",
       "      <td>Eau de Parfum</td>\n",
       "      <td>79.99</td>\n",
       "      <td>$79.99</td>\n",
       "      <td>5</td>\n",
       "      <td>40</td>\n",
       "      <td>New Jersey, Hong Kong</td>\n",
       "    </tr>\n",
       "    <tr>\n",
       "      <th>2</th>\n",
       "      <td>PRADA</td>\n",
       "      <td>PRADA Paradoxe by Prada EDP 3.0oz/90ml Spray P...</td>\n",
       "      <td>Eau de Parfum</td>\n",
       "      <td>59.99</td>\n",
       "      <td>$59.99</td>\n",
       "      <td>10</td>\n",
       "      <td>35</td>\n",
       "      <td>Orange, New Jersey, United States</td>\n",
       "    </tr>\n",
       "    <tr>\n",
       "      <th>3</th>\n",
       "      <td>As Show</td>\n",
       "      <td>J'adore Parfum D'eau by Christian 3.4 oz EDP F...</td>\n",
       "      <td>Eau de Parfum</td>\n",
       "      <td>59.99</td>\n",
       "      <td>$59.99/ea</td>\n",
       "      <td>10</td>\n",
       "      <td>9</td>\n",
       "      <td>USA, New Jersey, Hong Kong</td>\n",
       "    </tr>\n",
       "    <tr>\n",
       "      <th>4</th>\n",
       "      <td>Khadlaj</td>\n",
       "      <td>Shiyaaka for Men EDP Spray 100ML (3.4 FL.OZ) B...</td>\n",
       "      <td>Eau de Parfum</td>\n",
       "      <td>29.99</td>\n",
       "      <td>$29.99/ea</td>\n",
       "      <td>10</td>\n",
       "      <td>0</td>\n",
       "      <td>Little Ferry, New Jersey, United States</td>\n",
       "    </tr>\n",
       "  </tbody>\n",
       "</table>\n",
       "</div>"
      ],
      "text/plain": [
       "              brand                                              title  \\\n",
       "0  Carolina Herrera  Good Girl by Carolina Herrera 2.7 oz Eau De Pa...   \n",
       "1          As Shown  Parfums de Marly Delina La Rosee Eau de Parfum...   \n",
       "2             PRADA  PRADA Paradoxe by Prada EDP 3.0oz/90ml Spray P...   \n",
       "3           As Show  J'adore Parfum D'eau by Christian 3.4 oz EDP F...   \n",
       "4           Khadlaj  Shiyaaka for Men EDP Spray 100ML (3.4 FL.OZ) B...   \n",
       "\n",
       "            type  price price_usd_unit  available  sold  \\\n",
       "0  Eau de Parfum  43.99      $43.99/ea          2   393   \n",
       "1  Eau de Parfum  79.99         $79.99          5    40   \n",
       "2  Eau de Parfum  59.99         $59.99         10    35   \n",
       "3  Eau de Parfum  59.99      $59.99/ea         10     9   \n",
       "4  Eau de Parfum  29.99      $29.99/ea         10     0   \n",
       "\n",
       "                              itemLocation  \n",
       "0      Thomasville, Alabama, United States  \n",
       "1                    New Jersey, Hong Kong  \n",
       "2        Orange, New Jersey, United States  \n",
       "3               USA, New Jersey, Hong Kong  \n",
       "4  Little Ferry, New Jersey, United States  "
      ]
     },
     "execution_count": 69,
     "metadata": {},
     "output_type": "execute_result"
    }
   ],
   "source": [
    "mens_perfume_copy.head()\n",
    "womens_perfume_copy.head()"
   ]
  },
  {
   "cell_type": "code",
   "execution_count": 70,
   "id": "2f4ae08d-8789-499d-acc0-ba6b7b22b3e7",
   "metadata": {},
   "outputs": [
    {
     "name": "stdout",
     "output_type": "stream",
     "text": [
      "<class 'pandas.core.frame.DataFrame'>\n",
      "RangeIndex: 1000 entries, 0 to 999\n",
      "Data columns (total 8 columns):\n",
      " #   Column          Non-Null Count  Dtype  \n",
      "---  ------          --------------  -----  \n",
      " 0   brand           1000 non-null   object \n",
      " 1   title           1000 non-null   object \n",
      " 2   type            1000 non-null   object \n",
      " 3   price           1000 non-null   float64\n",
      " 4   price_usd_unit  1000 non-null   object \n",
      " 5   available       1000 non-null   int64  \n",
      " 6   sold            1000 non-null   int64  \n",
      " 7   itemLocation    1000 non-null   object \n",
      "dtypes: float64(1), int64(2), object(5)\n",
      "memory usage: 62.6+ KB\n",
      "<class 'pandas.core.frame.DataFrame'>\n",
      "RangeIndex: 999 entries, 0 to 998\n",
      "Data columns (total 8 columns):\n",
      " #   Column          Non-Null Count  Dtype  \n",
      "---  ------          --------------  -----  \n",
      " 0   brand           999 non-null    object \n",
      " 1   title           999 non-null    object \n",
      " 2   type            999 non-null    object \n",
      " 3   price           999 non-null    float64\n",
      " 4   price_usd_unit  999 non-null    object \n",
      " 5   available       999 non-null    int64  \n",
      " 6   sold            999 non-null    int64  \n",
      " 7   itemLocation    999 non-null    object \n",
      "dtypes: float64(1), int64(2), object(5)\n",
      "memory usage: 62.6+ KB\n"
     ]
    }
   ],
   "source": [
    "#check information after cleaning \n",
    "mens_perfume_copy.info()\n",
    "womens_perfume_copy.info()\n"
   ]
  },
  {
   "cell_type": "code",
   "execution_count": 71,
   "id": "872fb778-7464-4be7-b665-873a48f92d3d",
   "metadata": {},
   "outputs": [
    {
     "data": {
      "text/plain": [
       "<bound method Series.unique of 0        Eau de Parfum\n",
       "1        Eau de Parfum\n",
       "2      Eau de Toilette\n",
       "3      Eau de Toilette\n",
       "4           Fragrances\n",
       "            ...       \n",
       "995    Eau de Toilette\n",
       "996    Eau de Toilette\n",
       "997    Eau de Toilette\n",
       "998    Eau de Toilette\n",
       "999      Cologne spray\n",
       "Name: type, Length: 1000, dtype: object>"
      ]
     },
     "execution_count": 71,
     "metadata": {},
     "output_type": "execute_result"
    }
   ],
   "source": [
    "mens_perfume_copy['type'].unique"
   ]
  },
  {
   "cell_type": "code",
   "execution_count": 72,
   "id": "30f3bc71-d91e-4cfa-a883-eca2c2d92b24",
   "metadata": {},
   "outputs": [],
   "source": [
    "mens_perfume_copy['type'] = mens_perfume_copy['type'].str.title()"
   ]
  },
  {
   "cell_type": "code",
   "execution_count": 73,
   "id": "2fbf3b88-dd40-47b0-a6b3-513d664befbe",
   "metadata": {},
   "outputs": [],
   "source": [
    "corrections_mens = {\n",
    "    'Eau de Perfume': 'Eau de Parfum',\n",
    "    'Eau De Parfum': 'Eau de Parfum',  \n",
    "    'Eau-de-Parfum': 'Eau de Parfum',\n",
    "    'Perfume': 'Eau de Parfum',\n",
    "    'Eau De Perfume':  'Eau de Parfum', \n",
    "    'Parfum' :  'Eau de Parfum', \n",
    "   'Eau De Toilette': 'Eau de Toilette',   \n",
    "}\n",
    "mens_perfume_copy['type'] = mens_perfume_copy['type'].replace(corrections_mens)"
   ]
  },
  {
   "cell_type": "code",
   "execution_count": 74,
   "id": "21b4433a-da32-4c77-9902-8e363affc1cd",
   "metadata": {},
   "outputs": [],
   "source": [
    "def correct_type(value):\n",
    "    return corrections_mens.get(value, value)"
   ]
  },
  {
   "cell_type": "code",
   "execution_count": 75,
   "id": "741c2a03-50f9-4939-9a76-d1599729f27c",
   "metadata": {},
   "outputs": [],
   "source": [
    "mens_perfume_copy['type'] = mens_perfume_copy['type'].astype(str)  \n",
    "mens_perfume_copy['type'] = mens_perfume_copy['type'].str.strip()  \n",
    "mens_perfume_copy['type'] = mens_perfume_copy['type'].apply(correct_type)"
   ]
  },
  {
   "cell_type": "code",
   "execution_count": 76,
   "id": "a9e9882a-d15c-4af9-b9fc-3da52866ba8c",
   "metadata": {},
   "outputs": [
    {
     "name": "stdout",
     "output_type": "stream",
     "text": [
      "type\n",
      "Eau de Toilette                                          454\n",
      "Eau de Parfum                                            377\n",
      "Eau De Cologne                                            57\n",
      "Fragrances                                                32\n",
      "Gift Sets                                                  6\n",
      "Cologne                                                    6\n",
      "Body Spray                                                 4\n",
      "Edt                                                        4\n",
      "Unknown                                                    3\n",
      "Aftershave                                                 3\n",
      "/                                                          3\n",
      "Does Not Apply                                             3\n",
      "Parfum Intense                                             3\n",
      "Eau De Parfum Intense                                      3\n",
      "Extrait De Parfum                                          3\n",
      "Le Parfum                                                  3\n",
      "Pheromone                                                  2\n",
      "Fragrance Rolling Ball                                     2\n",
      "Elixir De Parfum                                           1\n",
      "Assorted                                                   1\n",
      "Roll On                                                    1\n",
      "Elixir                                                     1\n",
      "Various                                                    1\n",
      "Oil                                                        1\n",
      "Fragrance Oil                                              1\n",
      "Eau De Parfum/ Eau De Toilette                             1\n",
      "Deodorant Body Spray                                       1\n",
      "Splash-On                                                  1\n",
      "Edc                                                        1\n",
      "Car Air Freshener                                          1\n",
      "Fragrance Body Spray                                       1\n",
      "Body Oil                                                   1\n",
      "Eau De Cologne Spray                                       1\n",
      "Fine Cologne                                               1\n",
      "Eau De Toilette, Cologne Spray                             1\n",
      "De Nuit                                                    1\n",
      "Deodorant                                                  1\n",
      "Dior Homme Cologne                                         1\n",
      "Editions Parfums                                           1\n",
      "Eau De Cologne Spray, Cologne Spray                        1\n",
      "Eau De Toilette Intense                                    1\n",
      "Eau De Toilette, Eau De Parfum, Eau De Parfum Intense      1\n",
      "Eau De Toillette                                           1\n",
      "Y                                                          1\n",
      "Jo Malone Cologne Intense Spray                            1\n",
      "Fragrance & Perfume                                        1\n",
      "~ The One Eau De Parfum Spray ~                            1\n",
      "Unscented                                                  1\n",
      "Concentrated Uncut Pure Body Oil                           1\n",
      "Cologne Spray                                              1\n",
      "Name: count, dtype: int64\n"
     ]
    }
   ],
   "source": [
    "print(mens_perfume_copy['type'].value_counts())"
   ]
  },
  {
   "cell_type": "code",
   "execution_count": 77,
   "id": "b8dab3aa-b947-46cb-a153-a379a29a9991",
   "metadata": {},
   "outputs": [],
   "source": [
    "womens_perfume_copy['type'] = womens_perfume_copy['type'].str.title()"
   ]
  },
  {
   "cell_type": "code",
   "execution_count": 78,
   "id": "55574f21-33ec-4df3-97d6-b73680958f1c",
   "metadata": {},
   "outputs": [],
   "source": [
    "corrections = {\n",
    "    'Eau de Perfume': 'Eau de Parfum',\n",
    "    'Eau De Parfum': 'Eau de Parfum',  \n",
    "    'Eau-de-Parfum': 'Eau de Parfum',\n",
    "    'Eau De Perfume': 'Eau de Parfum',\n",
    "   'Eau De Toilette': 'Eau de Toilette',\n",
    "    'Eau De Toilette, Spray': 'Eau de Toilette',\n",
    "    'Eau De Parfum/Perfume' : 'Eau de Parfum' ,   \n",
    "}\n",
    "womens_perfume_copy['type'] = womens_perfume_copy['type'].replace(corrections)"
   ]
  },
  {
   "cell_type": "code",
   "execution_count": 79,
   "id": "7d502f0b-55cd-4faa-9502-5787a2f14174",
   "metadata": {},
   "outputs": [],
   "source": [
    "def correct_type(value):\n",
    "    return corrections.get(value, value)"
   ]
  },
  {
   "cell_type": "code",
   "execution_count": 80,
   "id": "44541e9f-b3f8-483d-b3fa-1ada43846921",
   "metadata": {},
   "outputs": [],
   "source": [
    "womens_perfume_copy['type'] = womens_perfume_copy['type'].astype(str)  \n",
    "womens_perfume_copy['type'] = womens_perfume_copy['type'].str.strip()  \n",
    "womens_perfume_copy['type'] = womens_perfume_copy['type'].apply(correct_type)"
   ]
  },
  {
   "cell_type": "code",
   "execution_count": 81,
   "id": "1630060f-1943-4ab5-b050-fa270ad4b1b6",
   "metadata": {},
   "outputs": [
    {
     "name": "stdout",
     "output_type": "stream",
     "text": [
      "type\n",
      "Eau de Parfum                      602\n",
      "Eau de Toilette                    197\n",
      "Perfume                             55\n",
      "Eau De Cologne                      38\n",
      "Fragrances                          14\n",
      "                                  ... \n",
      "Edp                                  1\n",
      "Perfume Fragrance Mist               1\n",
      "Parfum, Lotion, Gloss And Blush      1\n",
      "Bath Oil                             1\n",
      "1                                    1\n",
      "Name: count, Length: 63, dtype: int64\n"
     ]
    }
   ],
   "source": [
    "print(womens_perfume_copy['type'].value_counts())"
   ]
  },
  {
   "cell_type": "markdown",
   "id": "71a3bde6-70de-455b-a7ba-4ba59d275b4e",
   "metadata": {},
   "source": [
    "### Step 4: Combining the Data\n"
   ]
  },
  {
   "cell_type": "markdown",
   "id": "7c40f7d4-483f-47d3-90ff-081ba5204883",
   "metadata": {},
   "source": [
    "Before combining the data, I will create a new column named 'category' to label the data as 'men' and 'women'"
   ]
  },
  {
   "cell_type": "code",
   "execution_count": 84,
   "id": "824a0477-805c-4e0c-aa85-43414380b25d",
   "metadata": {},
   "outputs": [],
   "source": [
    "#add new columns: category \n",
    "mens_perfume_copy['category'] = 'men'\n",
    "womens_perfume_copy['category'] = 'women'"
   ]
  },
  {
   "cell_type": "markdown",
   "id": "384f6e98-a7bb-42a9-ace1-17f3a830fbc1",
   "metadata": {},
   "source": [
    "I use the concatenation method for a more comprehensive analysis. It allows me to combine two datasets with the same structure into one, facilitating a more complete view of the data."
   ]
  },
  {
   "cell_type": "code",
   "execution_count": 86,
   "id": "eef1d79a-a7a2-45cf-8193-5bfdb73b735b",
   "metadata": {},
   "outputs": [],
   "source": [
    "# combine datasets\n",
    "combined_perfume = pd.concat([mens_perfume_copy, womens_perfume_copy], ignore_index=True)"
   ]
  },
  {
   "cell_type": "code",
   "execution_count": 87,
   "id": "46d6ab27-2244-46e5-835d-99a164bb61be",
   "metadata": {
    "scrolled": true
   },
   "outputs": [
    {
     "data": {
      "text/html": [
       "<div>\n",
       "<style scoped>\n",
       "    .dataframe tbody tr th:only-of-type {\n",
       "        vertical-align: middle;\n",
       "    }\n",
       "\n",
       "    .dataframe tbody tr th {\n",
       "        vertical-align: top;\n",
       "    }\n",
       "\n",
       "    .dataframe thead th {\n",
       "        text-align: right;\n",
       "    }\n",
       "</style>\n",
       "<table border=\"1\" class=\"dataframe\">\n",
       "  <thead>\n",
       "    <tr style=\"text-align: right;\">\n",
       "      <th></th>\n",
       "      <th>brand</th>\n",
       "      <th>title</th>\n",
       "      <th>type</th>\n",
       "      <th>price</th>\n",
       "      <th>price_usd_unit</th>\n",
       "      <th>available</th>\n",
       "      <th>sold</th>\n",
       "      <th>itemLocation</th>\n",
       "      <th>category</th>\n",
       "    </tr>\n",
       "  </thead>\n",
       "  <tbody>\n",
       "    <tr>\n",
       "      <th>1994</th>\n",
       "      <td>Avon</td>\n",
       "      <td>Avon Far Away Infinity Eau de Parfum 1.7 fl. o...</td>\n",
       "      <td>Eau de Parfum</td>\n",
       "      <td>13.89</td>\n",
       "      <td>$13.89</td>\n",
       "      <td>10</td>\n",
       "      <td>157</td>\n",
       "      <td>West Palm Beach, Florida, United States</td>\n",
       "      <td>women</td>\n",
       "    </tr>\n",
       "    <tr>\n",
       "      <th>1995</th>\n",
       "      <td>Mancera</td>\n",
       "      <td>Roses Greedy by Mancera perfume for unisex EDP...</td>\n",
       "      <td>Eau de Parfum</td>\n",
       "      <td>57.85</td>\n",
       "      <td>$57.85/ea</td>\n",
       "      <td>33</td>\n",
       "      <td>58</td>\n",
       "      <td>Dallas, Texas, United States</td>\n",
       "      <td>women</td>\n",
       "    </tr>\n",
       "    <tr>\n",
       "      <th>1996</th>\n",
       "      <td>Unbranded</td>\n",
       "      <td>Sweet Tooth Eau de Parfum, Perfume for Women, ...</td>\n",
       "      <td>1</td>\n",
       "      <td>30.96</td>\n",
       "      <td>$30.96</td>\n",
       "      <td>2</td>\n",
       "      <td>3</td>\n",
       "      <td>New York, New York, United States</td>\n",
       "      <td>women</td>\n",
       "    </tr>\n",
       "    <tr>\n",
       "      <th>1997</th>\n",
       "      <td>Juliette Has A Gun</td>\n",
       "      <td>MMMM BY Juliette Has A Gun perfume for her EDP...</td>\n",
       "      <td>Eau de Parfum</td>\n",
       "      <td>53.99</td>\n",
       "      <td>$53.99/ea</td>\n",
       "      <td>3</td>\n",
       "      <td>117</td>\n",
       "      <td>Dallas, Texas, United States</td>\n",
       "      <td>women</td>\n",
       "    </tr>\n",
       "    <tr>\n",
       "      <th>1998</th>\n",
       "      <td>Paris Hilton</td>\n",
       "      <td>PARIS HILTON ELECTRIFY for Women Cologne 3.4 o...</td>\n",
       "      <td>Eau de Parfum</td>\n",
       "      <td>14.99</td>\n",
       "      <td>$14.99/ea</td>\n",
       "      <td>4</td>\n",
       "      <td>51</td>\n",
       "      <td>TX, United States</td>\n",
       "      <td>women</td>\n",
       "    </tr>\n",
       "  </tbody>\n",
       "</table>\n",
       "</div>"
      ],
      "text/plain": [
       "                   brand                                              title  \\\n",
       "1994                Avon  Avon Far Away Infinity Eau de Parfum 1.7 fl. o...   \n",
       "1995             Mancera  Roses Greedy by Mancera perfume for unisex EDP...   \n",
       "1996           Unbranded  Sweet Tooth Eau de Parfum, Perfume for Women, ...   \n",
       "1997  Juliette Has A Gun  MMMM BY Juliette Has A Gun perfume for her EDP...   \n",
       "1998        Paris Hilton  PARIS HILTON ELECTRIFY for Women Cologne 3.4 o...   \n",
       "\n",
       "               type  price price_usd_unit  available  sold  \\\n",
       "1994  Eau de Parfum  13.89         $13.89         10   157   \n",
       "1995  Eau de Parfum  57.85      $57.85/ea         33    58   \n",
       "1996              1  30.96         $30.96          2     3   \n",
       "1997  Eau de Parfum  53.99      $53.99/ea          3   117   \n",
       "1998  Eau de Parfum  14.99      $14.99/ea          4    51   \n",
       "\n",
       "                                 itemLocation category  \n",
       "1994  West Palm Beach, Florida, United States    women  \n",
       "1995             Dallas, Texas, United States    women  \n",
       "1996        New York, New York, United States    women  \n",
       "1997             Dallas, Texas, United States    women  \n",
       "1998                        TX, United States    women  "
      ]
     },
     "execution_count": 87,
     "metadata": {},
     "output_type": "execute_result"
    }
   ],
   "source": [
    "#check if the new col is added using .tail() for the last 5 \n",
    "combined_perfume.tail()"
   ]
  },
  {
   "cell_type": "code",
   "execution_count": 88,
   "id": "1bb6d035-55b7-4aab-b65f-eb7f93a4679d",
   "metadata": {},
   "outputs": [
    {
     "data": {
      "text/html": [
       "<div>\n",
       "<style scoped>\n",
       "    .dataframe tbody tr th:only-of-type {\n",
       "        vertical-align: middle;\n",
       "    }\n",
       "\n",
       "    .dataframe tbody tr th {\n",
       "        vertical-align: top;\n",
       "    }\n",
       "\n",
       "    .dataframe thead th {\n",
       "        text-align: right;\n",
       "    }\n",
       "</style>\n",
       "<table border=\"1\" class=\"dataframe\">\n",
       "  <thead>\n",
       "    <tr style=\"text-align: right;\">\n",
       "      <th></th>\n",
       "      <th>price</th>\n",
       "      <th>available</th>\n",
       "      <th>sold</th>\n",
       "    </tr>\n",
       "  </thead>\n",
       "  <tbody>\n",
       "    <tr>\n",
       "      <th>count</th>\n",
       "      <td>1999.000000</td>\n",
       "      <td>1999.000000</td>\n",
       "      <td>1999.000000</td>\n",
       "    </tr>\n",
       "    <tr>\n",
       "      <th>mean</th>\n",
       "      <td>43.184682</td>\n",
       "      <td>18.227614</td>\n",
       "      <td>625.828914</td>\n",
       "    </tr>\n",
       "    <tr>\n",
       "      <th>std</th>\n",
       "      <td>32.627610</td>\n",
       "      <td>53.673779</td>\n",
       "      <td>2457.887343</td>\n",
       "    </tr>\n",
       "    <tr>\n",
       "      <th>min</th>\n",
       "      <td>1.990000</td>\n",
       "      <td>0.000000</td>\n",
       "      <td>0.000000</td>\n",
       "    </tr>\n",
       "    <tr>\n",
       "      <th>25%</th>\n",
       "      <td>21.965000</td>\n",
       "      <td>3.000000</td>\n",
       "      <td>14.000000</td>\n",
       "    </tr>\n",
       "    <tr>\n",
       "      <th>50%</th>\n",
       "      <td>34.000000</td>\n",
       "      <td>9.000000</td>\n",
       "      <td>49.000000</td>\n",
       "    </tr>\n",
       "    <tr>\n",
       "      <th>75%</th>\n",
       "      <td>53.990000</td>\n",
       "      <td>10.000000</td>\n",
       "      <td>278.500000</td>\n",
       "    </tr>\n",
       "    <tr>\n",
       "      <th>max</th>\n",
       "      <td>299.990000</td>\n",
       "      <td>842.000000</td>\n",
       "      <td>54052.000000</td>\n",
       "    </tr>\n",
       "  </tbody>\n",
       "</table>\n",
       "</div>"
      ],
      "text/plain": [
       "             price    available          sold\n",
       "count  1999.000000  1999.000000   1999.000000\n",
       "mean     43.184682    18.227614    625.828914\n",
       "std      32.627610    53.673779   2457.887343\n",
       "min       1.990000     0.000000      0.000000\n",
       "25%      21.965000     3.000000     14.000000\n",
       "50%      34.000000     9.000000     49.000000\n",
       "75%      53.990000    10.000000    278.500000\n",
       "max     299.990000   842.000000  54052.000000"
      ]
     },
     "execution_count": 88,
     "metadata": {},
     "output_type": "execute_result"
    }
   ],
   "source": [
    "combined_perfume.describe()"
   ]
  },
  {
   "cell_type": "markdown",
   "id": "2c1ecbcc-b7fe-4a46-b669-7850351f2a43",
   "metadata": {},
   "source": [
    "### Step 5: Analysis and visualisation"
   ]
  },
  {
   "cell_type": "markdown",
   "id": "675af0f8-ea02-44cd-9761-6e3776d184bd",
   "metadata": {},
   "source": [
    "<div style=\"text-align:left; color:\t#008080 ; font-size:15px\">\n",
    "<h3>1. Which are the top 10 best-selling perfume brands</h3>\n",
    "</div>"
   ]
  },
  {
   "cell_type": "code",
   "execution_count": 91,
   "id": "f2195a0c-8c3d-4d61-a2af-fa8aedd6c1ab",
   "metadata": {},
   "outputs": [
    {
     "data": {
      "text/html": [
       "\n",
       "  <div id=\"c8277b99-5e5d-4098-a6d2-48fea0dc39aa\" data-root-id=\"p1004\" style=\"display: contents;\"></div>\n"
      ]
     },
     "metadata": {},
     "output_type": "display_data"
    },
    {
     "data": {
      "application/javascript": [
       "(function(root) {\n",
       "  function embed_document(root) {\n",
       "  const docs_json = {\"4f94fdc5-90d9-4bfe-9bba-37e6db8cee70\":{\"version\":\"3.3.4\",\"title\":\"Bokeh Application\",\"roots\":[{\"type\":\"object\",\"name\":\"Figure\",\"id\":\"p1004\",\"attributes\":{\"height\":400,\"x_range\":{\"type\":\"object\",\"name\":\"FactorRange\",\"id\":\"p1014\",\"attributes\":{\"factors\":[\"Calvin Klein\",\"Versace\",\"Davidoff\",\"Azzaro\",\"Burberry\",\"Liz Claiborne\",\"Dolce & Gabbana\",\"Armaf\",\"Kenneth Cole\",\"Paco Rabanne\"]}},\"y_range\":{\"type\":\"object\",\"name\":\"DataRange1d\",\"id\":\"p1006\",\"attributes\":{\"start\":0}},\"x_scale\":{\"type\":\"object\",\"name\":\"CategoricalScale\",\"id\":\"p1015\"},\"y_scale\":{\"type\":\"object\",\"name\":\"LinearScale\",\"id\":\"p1016\"},\"title\":{\"type\":\"object\",\"name\":\"Title\",\"id\":\"p1007\",\"attributes\":{\"text\":\"1. Which are the top 10 best-selling perfume brands\"}},\"renderers\":[{\"type\":\"object\",\"name\":\"GlyphRenderer\",\"id\":\"p1036\",\"attributes\":{\"data_source\":{\"type\":\"object\",\"name\":\"ColumnDataSource\",\"id\":\"p1001\",\"attributes\":{\"selected\":{\"type\":\"object\",\"name\":\"Selection\",\"id\":\"p1002\",\"attributes\":{\"indices\":[],\"line_indices\":[]}},\"selection_policy\":{\"type\":\"object\",\"name\":\"UnionRenderers\",\"id\":\"p1003\"},\"data\":{\"type\":\"map\",\"entries\":[[\"brands\",[\"Calvin Klein\",\"Versace\",\"Davidoff\",\"Azzaro\",\"Burberry\",\"Liz Claiborne\",\"Dolce & Gabbana\",\"Armaf\",\"Kenneth Cole\",\"Paco Rabanne\"]],[\"sales\",{\"type\":\"ndarray\",\"array\":{\"type\":\"bytes\",\"data\":\"CDkCAE30AQCB6wAAoZUAAHGUAADycQAAmm8AAPBpAAA8YAAA0lsAAA==\"},\"shape\":[10],\"dtype\":\"int32\",\"order\":\"little\"}]]}}},\"view\":{\"type\":\"object\",\"name\":\"CDSView\",\"id\":\"p1037\",\"attributes\":{\"filter\":{\"type\":\"object\",\"name\":\"AllIndices\",\"id\":\"p1038\"}}},\"glyph\":{\"type\":\"object\",\"name\":\"VBar\",\"id\":\"p1032\",\"attributes\":{\"x\":{\"type\":\"field\",\"field\":\"brands\"},\"width\":{\"type\":\"value\",\"value\":0.6},\"top\":{\"type\":\"field\",\"field\":\"sales\"},\"line_color\":{\"type\":\"value\",\"value\":\"#1f77b4\"},\"fill_color\":{\"type\":\"field\",\"field\":\"brands\",\"transform\":{\"type\":\"object\",\"name\":\"CategoricalColorMapper\",\"id\":\"p1028\",\"attributes\":{\"palette\":[\"#1f77b4\",\"#ff7f0e\",\"#2ca02c\",\"#d62728\",\"#9467bd\",\"#8c564b\",\"#e377c2\",\"#7f7f7f\",\"#bcbd22\",\"#17becf\"],\"factors\":[\"Calvin Klein\",\"Versace\",\"Davidoff\",\"Azzaro\",\"Burberry\",\"Liz Claiborne\",\"Dolce & Gabbana\",\"Armaf\",\"Kenneth Cole\",\"Paco Rabanne\"]}}}}},\"nonselection_glyph\":{\"type\":\"object\",\"name\":\"VBar\",\"id\":\"p1033\",\"attributes\":{\"x\":{\"type\":\"field\",\"field\":\"brands\"},\"width\":{\"type\":\"value\",\"value\":0.6},\"top\":{\"type\":\"field\",\"field\":\"sales\"},\"line_color\":{\"type\":\"value\",\"value\":\"#1f77b4\"},\"line_alpha\":{\"type\":\"value\",\"value\":0.1},\"fill_color\":{\"type\":\"field\",\"field\":\"brands\",\"transform\":{\"id\":\"p1028\"}},\"fill_alpha\":{\"type\":\"value\",\"value\":0.1},\"hatch_alpha\":{\"type\":\"value\",\"value\":0.1}}},\"hover_glyph\":{\"type\":\"object\",\"name\":\"VBar\",\"id\":\"p1034\",\"attributes\":{\"x\":{\"type\":\"field\",\"field\":\"brands\"},\"width\":{\"type\":\"value\",\"value\":0.6},\"top\":{\"type\":\"field\",\"field\":\"sales\"},\"line_color\":{\"type\":\"value\",\"value\":\"#1f77b4\"},\"line_alpha\":{\"type\":\"value\",\"value\":0.8},\"fill_color\":{\"type\":\"value\",\"value\":\"orange\"},\"fill_alpha\":{\"type\":\"value\",\"value\":0.8},\"hatch_alpha\":{\"type\":\"value\",\"value\":0.8}}},\"muted_glyph\":{\"type\":\"object\",\"name\":\"VBar\",\"id\":\"p1035\",\"attributes\":{\"x\":{\"type\":\"field\",\"field\":\"brands\"},\"width\":{\"type\":\"value\",\"value\":0.6},\"top\":{\"type\":\"field\",\"field\":\"sales\"},\"line_color\":{\"type\":\"value\",\"value\":\"#1f77b4\"},\"line_alpha\":{\"type\":\"value\",\"value\":0.2},\"fill_color\":{\"type\":\"field\",\"field\":\"brands\",\"transform\":{\"id\":\"p1028\"}},\"fill_alpha\":{\"type\":\"value\",\"value\":0.2},\"hatch_alpha\":{\"type\":\"value\",\"value\":0.2}}}}}],\"toolbar\":{\"type\":\"object\",\"name\":\"Toolbar\",\"id\":\"p1013\",\"attributes\":{\"tools\":[{\"type\":\"object\",\"name\":\"HoverTool\",\"id\":\"p1027\",\"attributes\":{\"renderers\":\"auto\",\"tooltips\":[[\"Brand\",\"@brands\"],[\"Total Sales\",\"@sales\"]]}}]}},\"toolbar_location\":null,\"left\":[{\"type\":\"object\",\"name\":\"LinearAxis\",\"id\":\"p1022\",\"attributes\":{\"ticker\":{\"type\":\"object\",\"name\":\"BasicTicker\",\"id\":\"p1023\",\"attributes\":{\"mantissas\":[1,2,5]}},\"formatter\":{\"type\":\"object\",\"name\":\"NumeralTickFormatter\",\"id\":\"p1039\"},\"major_label_policy\":{\"type\":\"object\",\"name\":\"AllLabels\",\"id\":\"p1025\"}}}],\"below\":[{\"type\":\"object\",\"name\":\"CategoricalAxis\",\"id\":\"p1017\",\"attributes\":{\"ticker\":{\"type\":\"object\",\"name\":\"CategoricalTicker\",\"id\":\"p1018\"},\"formatter\":{\"type\":\"object\",\"name\":\"CategoricalTickFormatter\",\"id\":\"p1019\"},\"major_label_orientation\":0.7853981633974483,\"major_label_policy\":{\"type\":\"object\",\"name\":\"AllLabels\",\"id\":\"p1020\"}}}],\"center\":[{\"type\":\"object\",\"name\":\"Grid\",\"id\":\"p1021\",\"attributes\":{\"axis\":{\"id\":\"p1017\"},\"grid_line_color\":null}},{\"type\":\"object\",\"name\":\"Grid\",\"id\":\"p1026\",\"attributes\":{\"dimension\":1,\"axis\":{\"id\":\"p1022\"}}}]}}]}};\n",
       "  const render_items = [{\"docid\":\"4f94fdc5-90d9-4bfe-9bba-37e6db8cee70\",\"roots\":{\"p1004\":\"c8277b99-5e5d-4098-a6d2-48fea0dc39aa\"},\"root_ids\":[\"p1004\"]}];\n",
       "  root.Bokeh.embed.embed_items_notebook(docs_json, render_items);\n",
       "  }\n",
       "  if (root.Bokeh !== undefined) {\n",
       "    embed_document(root);\n",
       "  } else {\n",
       "    let attempts = 0;\n",
       "    const timer = setInterval(function(root) {\n",
       "      if (root.Bokeh !== undefined) {\n",
       "        clearInterval(timer);\n",
       "        embed_document(root);\n",
       "      } else {\n",
       "        attempts++;\n",
       "        if (attempts > 100) {\n",
       "          clearInterval(timer);\n",
       "          console.log(\"Bokeh: ERROR: Unable to run BokehJS code because BokehJS library is missing\");\n",
       "        }\n",
       "      }\n",
       "    }, 10, root)\n",
       "  }\n",
       "})(window);"
      ],
      "application/vnd.bokehjs_exec.v0+json": ""
     },
     "metadata": {
      "application/vnd.bokehjs_exec.v0+json": {
       "id": "p1004"
      }
     },
     "output_type": "display_data"
    }
   ],
   "source": [
    "top_brands = combined_perfume.groupby('brand')['sold'].sum().sort_values(ascending=False).head(10)\n",
    "\n",
    "top_brands_list = top_brands.index.tolist()\n",
    "num_brands = len(top_brands_list)\n",
    "# use at most 10 colors\n",
    "palette = Category10[min(num_brands, 10)]  \n",
    "\n",
    "# create a new ColumnDataSource for the bar chart\n",
    "brand_source = ColumnDataSource(data=dict(brands=top_brands_list, sales=top_brands.values))\n",
    "\n",
    "# bar chart for top selling brands\n",
    "p1 = figure(x_range=top_brands_list, height=400, title='1. Which are the top 10 best-selling perfume brands',\n",
    "            toolbar_location=None, tools=\"\")\n",
    "\n",
    "# hover tool to display brand and sales\n",
    "hover = HoverTool()\n",
    "hover.tooltips = [('Brand', '@brands'), ('Total Sales', '@sales')]\n",
    "p1.add_tools(hover) \n",
    "\n",
    "# add interactive bars with hover effect\n",
    "p1.vbar(x='brands', top='sales', width=0.6, source=brand_source, \n",
    "        fill_color=factor_cmap('brands', palette=palette, factors=top_brands_list),\n",
    "        hover_fill_color='orange', hover_alpha=0.8)\n",
    "\n",
    "# format the Y-axis to avoid scientific notation\n",
    "p1.yaxis.formatter = NumeralTickFormatter(format='0,0')\n",
    "p1.xgrid.grid_line_color = None\n",
    "p1.y_range.start = 0\n",
    "p1.xaxis.major_label_orientation = np.pi/4\n",
    "\n",
    "# save the Bokeh bar chart as an HTML file\n",
    "from bokeh.io import output_file\n",
    "\n",
    "# output file name\n",
    "output_file(\"top_selling_brands.html\")\n",
    "\n",
    "show(p1)"
   ]
  },
  {
   "cell_type": "markdown",
   "id": "0400ae83-a7c9-44ac-b4eb-3eba48908644",
   "metadata": {},
   "source": [
    "Result Explained:\n",
    "The results show that Calvin Klein dominates the market with the highest sales, followed by Versace, Davidoff, and Azzaro. However, there is a significant sales gap between the top few brands and the others in the list, indicating that the market is concentrated among a small number of leading brands. "
   ]
  },
  {
   "cell_type": "markdown",
   "id": "79b41049-8869-470b-b44e-eed6072579cc",
   "metadata": {},
   "source": [
    "<div style=\"text-align:left; color:\t#008080 ; font-size:15px\">\n",
    "<h3> 2. What kind of perfumes do people prefer?</h3>\n",
    "</div>"
   ]
  },
  {
   "cell_type": "code",
   "execution_count": 100,
   "id": "6bf3ab82-dfb9-49ed-a90e-62b2c73175cb",
   "metadata": {},
   "outputs": [],
   "source": [
    "type_counts = combined_perfume['type'].value_counts()"
   ]
  },
  {
   "cell_type": "code",
   "execution_count": 102,
   "id": "bf665a5a-9c3b-4105-a5f2-aa7032769b0b",
   "metadata": {},
   "outputs": [
    {
     "data": {
      "image/png": "[encoded data removed]",
      "text/plain": [
       "<Figure size 800x500 with 1 Axes>"
      ]
     },
     "metadata": {},
     "output_type": "display_data"
    }
   ],
   "source": [
    "# create a Bar Chart for the top 10 perfume types\n",
    "top_10_types = type_counts.head(10)\n",
    "\n",
    "# plot the bar chart\n",
    "fig, ax = plt.subplots(figsize=(8, 5))\n",
    "colors = plt.cm.tab10(np.linspace(0, 1, len(top_10_types)))\n",
    "ax.barh(top_10_types.index[::-1], top_10_types[::-1], color= colors)\n",
    "ax.set_xlabel('Number of Listings')\n",
    "ax.set_ylabel('Perfume Type')\n",
    "ax.set_title('2. What kind of perfumes do people prefer?')\n",
    "\n",
    "# show the bar chart\n",
    "plt.show()"
   ]
  },
  {
   "cell_type": "markdown",
   "id": "9d85eb4c-e817-4854-b07e-3aae81dca4ba",
   "metadata": {},
   "source": [
    "Result Explained:\n",
    "\n",
    "979 listings are for Eau de Parfum, making it the most popular fragrance type. \n",
    "Eau de Toilette is also highly popular with 651 listings, making it the second most preferred type. Eau de Cologne (95 listings) have significantly fewer sales, Perfume (55 listings)\n",
    "46 listings were classified under a general \"Fragrances\" category.\n"
   ]
  },
  {
   "cell_type": "markdown",
   "id": "cf37b45e-4e94-45ad-97c7-d0aa4dca36dd",
   "metadata": {},
   "source": [
    "<div style=\"text-align:left; color:\t#008080 ; font-size:15px\">\n",
    "<h3>3.Are men's perfumes more expensive than women's?</h3>\n",
    "</div>"
   ]
  },
  {
   "cell_type": "code",
   "execution_count": null,
   "id": "ee09ef70-50cf-4e1a-b254-adf5065cd3cd",
   "metadata": {},
   "outputs": [],
   "source": [
    "price_comparison = combined_perfume.groupby('category')['price'].describe()\n",
    "price_comparison"
   ]
  },
  {
   "cell_type": "markdown",
   "id": "da56ccef-e2f8-407d-98e0-210ac30c01c5",
   "metadata": {},
   "source": [
    "Result Explained:\n",
    "\n",
    "The median price for men's perfumes is 35.71, while for women's perfumes, it is 32.99.\n",
    "This suggests that, on average, men’s perfumes tend to be slightly more expensive than women’s.\n",
    "\n",
    "Men's perfumes: The middle 50% of prices are between 22.99 and 59.00.\n",
    "Women's perfumes: The middle 50% of prices are between 20.70 and 49.99.\n",
    "The IQR is wider for men’s perfumes, indicating more variability in pricing.\n",
    "\n",
    "If we look at the mean price and Standard Deviation\n",
    "Average price (mean):\n",
    "Men's perfumes: 46.48\n",
    "Women's perfumes: 39.89\n",
    "Price deviation (std):\n",
    "Men's perfumes: 35.53\n",
    "Women's perfumes: 29.07\n",
    "Men’s perfumes have a higher average price and greater price variation.\n",
    "\n",
    "The most expensive women’s perfume, priced at 299.99, is higher than the most expensive men’s perfume at 259.09, highlighting outliers in the data that suggest women’s perfumes may offer more premium or luxury options at the end of the price range."
   ]
  },
  {
   "cell_type": "code",
   "execution_count": null,
   "id": "e738494c-e274-41e2-aa5e-deaa531ab112",
   "metadata": {},
   "outputs": [],
   "source": [
    "plt.figure(figsize=(8, 6))\n",
    "sns.boxplot(data=combined_perfume, x='category', y='price', palette='Set3')\n",
    "\n",
    "# Labels and title\n",
    "plt.xlabel('Gender Category')\n",
    "plt.ylabel('Price ($)')\n",
    "plt.title(\"3.Are men's perfumes more expensive than women's?\")\n",
    "\n",
    "# Show the plot\n",
    "plt.show()"
   ]
  },
  {
   "cell_type": "markdown",
   "id": "ebc982a9-671d-436f-abda-0082735a1630",
   "metadata": {},
   "source": [
    "The boxplot compares the prices of men's and women's perfumes.\n",
    "Both categories have similar median prices.\n",
    "Men's perfumes show a slightly wider range of prices, with a few higher-priced outliers\n",
    "\n",
    "Men’s perfumes tend to be priced higher on average and show greater price variation.\n",
    "Women’s perfumes have a wider range, including cheaper budget options as well as high-end luxury perfumes.\n",
    "Luxury options exist for both, but women's perfumes reach a higher max price ($299.99)."
   ]
  },
  {
   "cell_type": "markdown",
   "id": "2dc8481e-ef29-4891-a707-2c0b432138e8",
   "metadata": {},
   "source": [
    "<div style=\"text-align:left; color:\t#008080 ; font-size:15px\">\n",
    "<h3>4. How are perfume sales distributed across different countries? </h3>\n",
    "</div>"
   ]
  },
  {
   "cell_type": "code",
   "execution_count": null,
   "id": "4ab44b30-3e5b-49eb-87ce-6efa0e0aa1a1",
   "metadata": {},
   "outputs": [],
   "source": [
    "# split each string by the last comma, get the last part, and remove surrounding whitespace\n",
    "combined_perfume['Country'] = combined_perfume['itemLocation'].str.split(',').str[-1].str.strip()\n",
    "\n",
    "# group by country and calculate total sales\n",
    "country_sales = combined_perfume.groupby('Country')['sold'].sum().reset_index()\n",
    "\n",
    "# sort countries by total sales in descending order\n",
    "country_sales = country_sales.sort_values('sold', ascending=False)\n",
    "country_sales"
   ]
  },
  {
   "cell_type": "markdown",
   "id": "416fa49d-5eed-41f4-8c62-55f5492affef",
   "metadata": {},
   "source": [
    "Result explained:\n",
    "\n",
    "The United States has the highest sales at 1,244,543 units, followed by Hong Kong with 3,442 units and China with 878 units. Other countries with significant sales include Canada (803 units), India (453 units), and Taiwan (362 units). Sales are much lower in countries like Brazil (177 units), Bulgaria (163 units), and Poland (100 units). The countries with the lowest sales include Israel (37 units), Portugal (30 units), Japan (24 units), and Pakistan (20 units).\n"
   ]
  },
  {
   "cell_type": "code",
   "execution_count": null,
   "id": "52987bfb-de65-4c4e-ae41-250ce7b27f52",
   "metadata": {},
   "outputs": [],
   "source": [
    "import plotly.express as px\n",
    "# combine sales for \"Estados Unidos\" and \"United States\" - even if is 'Estados Unidos has 0\n",
    "us_sales = country_sales.loc[country_sales['Country'].isin(['United States', 'Estados Unidos']), 'sold'].sum()\n",
    "\n",
    "# update the sales value for \"United States\"\n",
    "country_sales.loc[country_sales['Country'] == 'United States', 'sold'] = us_sales\n",
    "\n",
    "# remove the duplicate entry\n",
    "country_sales = country_sales[country_sales['Country'] != 'Estados Unidos'].copy()\n",
    "\n",
    "# create a choropleth map\n",
    "fig = px.choropleth(\n",
    "    country_sales,\n",
    "    locations='Country',\n",
    "    locationmode='country names',\n",
    "    color='sold',\n",
    "    hover_name='Country',\n",
    "    color_continuous_scale=px.colors.sequential.Teal,\n",
    "    title='4. How are perfume sales distributed across different countries?'\n",
    ")\n",
    "\n",
    "# layout for better visualization\n",
    "fig.update_layout(\n",
    "    geo=dict(showframe=False,             \n",
    "        showcoastlines=True,         \n",
    "        projection_type='natural earth',  \n",
    "        showland=True,              \n",
    "        landcolor='lightgray',      \n",
    "        showlakes=True,              \n",
    "        lakecolor='lightblue',       \n",
    "        showocean=True,              \n",
    "        oceancolor='lightblue',      \n",
    "        showcountries=True,          \n",
    "        countrycolor='gray'),               \n",
    "    margin={'r':0,'t':30,'l':0,'b':0}\n",
    ")\n",
    "\n",
    "fig.show()\n"
   ]
  },
  {
   "cell_type": "code",
   "execution_count": null,
   "id": "4a3d7bb6-e52a-4956-bcff-51d47af94143",
   "metadata": {},
   "outputs": [],
   "source": [
    "#save html file\n",
    "fig.write_html('choropleth_map.html')"
   ]
  },
  {
   "cell_type": "markdown",
   "id": "31bdf2a8-8ca6-466d-acd3-a77a8c48e997",
   "metadata": {},
   "source": [
    "<div style=\"text-align:left; color:\t#008080 ; font-size:15px\">\n",
    "<h3>5. Where are most sellers located? </h3>\n",
    "</div>"
   ]
  },
  {
   "cell_type": "code",
   "execution_count": null,
   "id": "8985205b-d997-4461-b660-61f2ae8f19f5",
   "metadata": {},
   "outputs": [],
   "source": [
    "# extract location counts\n",
    "location_counts = combined_perfume['itemLocation'].value_counts().head(10)\n",
    "location_counts"
   ]
  },
  {
   "cell_type": "code",
   "execution_count": null,
   "id": "fe3edc19-0a9b-4670-b7da-794d3313aa53",
   "metadata": {},
   "outputs": [],
   "source": []
  },
  {
   "cell_type": "code",
   "execution_count": null,
   "id": "32e89e24-e611-4f45-a114-928bfd2dc655",
   "metadata": {},
   "outputs": [],
   "source": [
    "# create a horizontal bar plot for the Top 10 seller locations\n",
    "fig, ax = plt.subplots(figsize=(9, 6))\n",
    "\n",
    "# plot the data with reversed index and values, using a paired color palette\n",
    "bars = ax.barh(location_counts.index[::-1], location_counts[::-1], color=plt.cm.Paired.colors)\n",
    "\n",
    "# add value labels to the end of each bar\n",
    "for bar in bars:\n",
    "    ax.text(bar.get_width() + 2, bar.get_y() + bar.get_height()/2, \n",
    "            f\"{int(bar.get_width())}\", ha='left', va='center', fontsize=10)\n",
    "\n",
    "# labels and title\n",
    "ax.set_xlabel(\"Number of Sellers\")\n",
    "ax.set_ylabel(\"Location\")\n",
    "ax.set_title(\"Top 10 Seller Locations for Perfumes\")\n",
    "\n",
    "# show the bar chart\n",
    "plt.show()\n"
   ]
  },
  {
   "cell_type": "markdown",
   "id": "4a223b96-5c94-43e5-911e-9a3598a24b4c",
   "metadata": {},
   "source": [
    "Result explained:\n",
    "\n",
    "The United States, with Dallas, Texas leading at 267 units sold. Other cities with significant sales include Hackensack, New Jersey with 190 units, and Brooklyn, New York with 111 units. Miami, Florida follows with 73 units, while Edison, New Jersey has 61 units sold. Cities like Detroit, Michigan and Houston, Texas each show 47 units sold, while New York, New York has 40 units. Katy, Texas and Warren, Michigan each contribute smaller amounts, with 40 and 32 units sold, respectively.\n"
   ]
  },
  {
   "cell_type": "markdown",
   "id": "c53ee59a-fef1-4e33-a9b8-7cfda3f8cf79",
   "metadata": {},
   "source": [
    "<div style=\"text-align:left; color:\t#008080 ; font-size:15px\">\n",
    "<h3>6. Do perfumes with higher stock sell more? </h3>\n",
    "</div>\n"
   ]
  },
  {
   "cell_type": "code",
   "execution_count": null,
   "id": "1b6e8641-ea19-4d3a-8019-ed3cdd709c27",
   "metadata": {},
   "outputs": [],
   "source": [
    "# calculate the correlation coefficient between stock available and units sold\n",
    "corr_available_sold = combined_perfume[\"available\"].corr(combined_perfume[\"sold\"])\n",
    "corr_available_sold"
   ]
  },
  {
   "cell_type": "code",
   "execution_count": null,
   "id": "2a5fa68f-a823-4250-8348-634a9c8b8f73",
   "metadata": {},
   "outputs": [],
   "source": [
    "plt.figure(figsize=(8, 5))\n",
    "sns.scatterplot(data=combined_perfume, x='available', y='sold', alpha=0.6, color='teal')\n",
    "\n",
    "# Labels and title\n",
    "plt.xlabel('Stock Available')\n",
    "plt.ylabel('Units Sold')\n",
    "plt.title('6. Do perfumes with higher stock sell more?')\n",
    "\n",
    "# Show the plot\n",
    "plt.show()"
   ]
  },
  {
   "cell_type": "markdown",
   "id": "1d07c63f-dada-42bf-82a0-972a56a783ff",
   "metadata": {},
   "source": [
    "Result explained:\n",
    "\n",
    "The correlation coefficient is 0.116, which is very weak and close to zero, this suggests almost no relationship between stock availability and the number of units sold.\n",
    "Having a large stock does not necessarily mean higher sales. Sellers should not rely only on stock levels but also on pricing strategies, marketing, and product quality.\n",
    "If we look at the scatter plot, points are spread out randomly instead of forming a clear trend. This confirms that stock is not the primary driver of sales performance. \n"
   ]
  },
  {
   "cell_type": "markdown",
   "id": "27f7cc43-c726-4e6b-8805-5c4e77280555",
   "metadata": {},
   "source": [
    "<div style=\"text-align:left; color:\t#008080 ; font-size:15px\">\n",
    "<h3>7. Do budget perfumes sell more than luxury perfumes? </h3>\n",
    "</div>"
   ]
  },
  {
   "cell_type": "code",
   "execution_count": null,
   "id": "f36cd75b-b3da-4148-82d3-ff862a833337",
   "metadata": {},
   "outputs": [],
   "source": [
    "# define a threshold to classify brands into luxury and budget segments\n",
    "price_threshold = combined_perfume['price'].median()  # use the median price as a dividing line\n",
    "\n",
    "# create a new column classifying brands as \"Luxury\" or \"Budget\"\n",
    "combined_perfume['brand_category'] = np.where(combined_perfume['price'] > price_threshold, 'Luxury', 'Budget')\n",
    "\n",
    "# aggregate sales by brand category\n",
    "brand_sales_comparison = combined_perfume.groupby('brand_category')['sold'].sum()\n",
    "brand_sales_comparison"
   ]
  },
  {
   "cell_type": "code",
   "execution_count": null,
   "id": "93098248-5a7e-491f-b092-35a20a2b4c1f",
   "metadata": {},
   "outputs": [],
   "source": [
    "#check new col\n",
    "combined_perfume.head()"
   ]
  },
  {
   "cell_type": "code",
   "execution_count": null,
   "id": "574618ef-9616-4873-bd45-0f7b523bf503",
   "metadata": {},
   "outputs": [],
   "source": [
    "#create a bar plot to compare luxury vs. budget brands\n",
    "plt.figure(figsize=(8, 5))\n",
    "sns.barplot(x=brand_sales_comparison.index, y=brand_sales_comparison.values, palette=['#17becf', '#2ca02c'])\n",
    "\n",
    "# labels and title\n",
    "plt.xlabel('Brand Category')\n",
    "plt.ylabel('Total Units Sold')\n",
    "plt.title('7. Do budget perfumes sell more than luxury perfumes?')\n",
    "\n",
    "# show the plot\n",
    "plt.show()\n",
    "\n"
   ]
  },
  {
   "cell_type": "markdown",
   "id": "51b70273-ec33-481f-94f1-9a4257ae2dd7",
   "metadata": {},
   "source": [
    "Result explained:\n",
    "\n",
    "Budget perfumes sold almost twice as much as luxury perfumes, with 819,817 vs. 431,216 units. This shows a price-sensitive market, where affordable options dominate. However, luxury perfumes still perform well, likely due to their higher profit margins."
   ]
  },
  {
   "cell_type": "markdown",
   "id": "68f06176-a69e-4e34-af5f-41c121419779",
   "metadata": {},
   "source": [
    "**Conclusion**\n",
    "\n",
    "***Key Findings:*** \n",
    "\n",
    "•⁠  ⁠Certain brands consistently dominate the market, showcasing strong brand influence.  \n",
    "•⁠  ⁠Pricing does not significantly impact sales, but stock management plays a role.  \n",
    "•⁠  ⁠Budget perfumes tend to outsell luxury perfumes, indicating a price-sensitive market.  \n",
    "•⁠  ⁠Sales are concentrated in specific regions, offering expansion opportunities.  \n"
   ]
  },
  {
   "cell_type": "code",
   "execution_count": null,
   "id": "cb5ceee2-58ed-4238-b47f-1c26b89f3670",
   "metadata": {},
   "outputs": [],
   "source": []
  }
 ],
 "metadata": {
  "kernelspec": {
   "display_name": "Python 3 (ipykernel)",
   "language": "python",
   "name": "python3"
  },
  "language_info": {
   "codemirror_mode": {
    "name": "ipython",
    "version": 3
   },
   "file_extension": ".py",
   "mimetype": "text/x-python",
   "name": "python",
   "nbconvert_exporter": "python",
   "pygments_lexer": "ipython3",
   "version": "3.11.7"
  }
 },
 "nbformat": 4,
 "nbformat_minor": 5
}
